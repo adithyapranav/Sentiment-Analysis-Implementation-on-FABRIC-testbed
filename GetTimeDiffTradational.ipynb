{
 "cells": [
  {
   "cell_type": "markdown",
   "id": "5f9a2b34-229d-493e-8651-f1e70052d407",
   "metadata": {},
   "source": [
    "# Time Taken By Tradational Method\n"
   ]
  },
  {
   "cell_type": "markdown",
   "id": "206890d6-445c-4b7f-954a-3bea3e18cc52",
   "metadata": {},
   "source": [
    "To get the time taken when used by tradational method, copy the output of source in map1 and the output from desstination to map2 and execute the code"
   ]
  },
  {
   "cell_type": "code",
   "execution_count": 8,
   "id": "02ab548a-8e7c-4709-8e58-4a9a44f3cf54",
   "metadata": {},
   "outputs": [
    {
     "name": "stdout",
     "output_type": "stream",
     "text": [
      "Time difference for packet with ID d4bf6a6b-52b6-4633-8780-129953a2395a: 1407.67 milliseconds\n",
      "Time difference for packet with ID 80a47a1d-152e-420a-a055-094f1e649a44: 1664.78 milliseconds\n",
      "Time difference for packet with ID 67ceb353-b482-4e66-817a-5c921ebf4163: 1928.21 milliseconds\n",
      "Time difference for packet with ID 39d3dfe1-2cbb-4b59-820c-7903d0e03fb7: 2188.03 milliseconds\n",
      "Time difference for packet with ID 663ca0a3-23e8-4c0b-8d70-5ccf282b556a: 2448.80 milliseconds\n",
      "Time difference for packet with ID c2842b68-a77e-43b5-bc30-7d28d864f215: 2710.66 milliseconds\n",
      "Time difference for packet with ID a648c9a4-2fbd-4c81-83ff-a6473324c8fd: 2969.38 milliseconds\n",
      "Time difference for packet with ID 32f20e92-5318-4543-b7d6-6eac26c57140: 3231.09 milliseconds\n",
      "Time difference for packet with ID 26bd8704-28c4-4cf0-85cc-3f21c6cd2575: 3490.20 milliseconds\n",
      "Time difference for packet with ID 7c455ded-eee7-48d2-8aab-bb551518df8a: 3759.03 milliseconds\n",
      "Time difference for packet with ID 014928b2-f238-47df-b496-8fe50997536a: 4027.22 milliseconds\n",
      "Time difference for packet with ID 92c113a4-84b6-4cbf-af81-73504016f33e: 4300.72 milliseconds\n",
      "Time difference for packet with ID 660ec0a5-24a9-474f-b784-1e31fd72e8c4: 4560.12 milliseconds\n",
      "Time difference for packet with ID 5f6ab242-814d-44a9-9c59-79ef82514a99: 4824.64 milliseconds\n",
      "Time difference for packet with ID d1c80569-b03f-4749-bc83-77d788290327: 5082.24 milliseconds\n",
      "Time difference for packet with ID feb2ff9c-0f7f-4a6d-9d73-e90faf1a0d10: 5341.03 milliseconds\n",
      "Time difference for packet with ID 1f051f7e-87de-47f0-82bf-056792277f4a: 5599.46 milliseconds\n",
      "Time difference for packet with ID 9e167543-f60f-4b1e-9c1e-b0a5fae1c652: 5858.88 milliseconds\n",
      "Time difference for packet with ID ed179093-ec9a-4a23-a65d-650b326559f2: 6115.77 milliseconds\n",
      "Time difference for packet with ID c0f238b4-2039-4cc1-8a03-4ca6932e3e5d: 6375.92 milliseconds\n",
      "Time difference for packet with ID 7b870165-2a4b-4b04-b271-9a4ad5073e63: 6635.74 milliseconds\n",
      "Time difference for packet with ID c37a1a2e-f054-4d28-84b0-c723cd13275e: 6894.82 milliseconds\n",
      "Time difference for packet with ID c436269a-1383-4b60-8e3d-2b9745f3cc04: 7154.26 milliseconds\n",
      "Time difference for packet with ID 40312bab-db70-41e5-b79b-a6b1eca94aa1: 7412.90 milliseconds\n",
      "Time difference for packet with ID 464c05da-5ba7-4270-b7ea-68b19f97580f: 7670.96 milliseconds\n",
      "Time difference for packet with ID e1d52e8a-83c1-4100-8405-2c4052ed176b: 7928.89 milliseconds\n",
      "Time difference for packet with ID 01353627-1d24-4113-9063-e6381d57a544: 8186.62 milliseconds\n",
      "Time difference for packet with ID 7034d48f-b4e8-4a4c-8ae4-8fae3dbeef83: 8447.02 milliseconds\n",
      "Time difference for packet with ID 86378dfb-85c9-415f-933c-bec3c680a724: 8705.43 milliseconds\n",
      "Time difference for packet with ID de151157-1ca3-4fb3-97d7-ba61d36ea78a: 8964.72 milliseconds\n",
      "Time difference for packet with ID aa960dde-c49c-432a-8157-fbcc97aaa412: 9223.05 milliseconds\n",
      "Time difference for packet with ID 41133e55-7912-4793-bfaa-49a7e1a3c08f: 9481.14 milliseconds\n",
      "Time difference for packet with ID b6e30468-d568-45d5-814a-dcb03ceb1c27: 9739.71 milliseconds\n",
      "Time difference for packet with ID 5e3c8f24-3831-487d-91ce-25fc35a4d797: 10000.84 milliseconds\n",
      "Time difference for packet with ID 4059bc74-9f93-4095-b2bb-0bc9353684fc: 10259.45 milliseconds\n",
      "Time difference for packet with ID 3867b948-e590-49b3-9dd1-16f0bacef5cd: 10519.32 milliseconds\n",
      "Time difference for packet with ID 57e06f91-e3d6-4234-8533-02337254bce6: 10790.38 milliseconds\n",
      "Time difference for packet with ID 565e7804-6dd3-413c-a9d1-14f59cab719e: 11051.32 milliseconds\n",
      "Time difference for packet with ID fe755970-8518-4ec2-b5fb-0ea5781ae8d4: 11310.95 milliseconds\n",
      "Time difference for packet with ID bc5ccccc-68ac-432c-a6b7-b4303def31f1: 11572.52 milliseconds\n",
      "Time difference for packet with ID 0046a448-4006-40c1-8e0e-72de5b4d037a: 11833.55 milliseconds\n",
      "Time difference for packet with ID 0a136dc7-36e8-4ade-867e-b779d5678cab: 12092.49 milliseconds\n",
      "Time difference for packet with ID 79af2630-b896-4a40-b3dd-1cac7b13e163: 12352.75 milliseconds\n",
      "Time difference for packet with ID 7fd8670f-2772-4923-834a-41c1c197ebb3: 12613.64 milliseconds\n",
      "Time difference for packet with ID 5be3e716-94a9-42ab-9017-b9bb44dd8eff: 12874.41 milliseconds\n",
      "Time difference for packet with ID a95b6307-7dac-4c35-8f30-2bcd308e0535: 13134.65 milliseconds\n",
      "Time difference for packet with ID f99c45fe-da31-4113-a0d0-d9df5c459948: 13394.95 milliseconds\n",
      "Time difference for packet with ID bb6370b8-4c01-4c85-8ec0-95297c973ae8: 13655.25 milliseconds\n",
      "Time difference for packet with ID 2af68998-edaa-4f69-8fa7-17641efb56e1: 13915.00 milliseconds\n",
      "Time difference for packet with ID 30f83526-dd5a-4f8a-b82d-6de011611c21: 14174.82 milliseconds\n",
      "Average time difference: 7797.51 milliseconds\n"
     ]
    }
   ],
   "source": [
    "import datetime\n",
    "from datetime import timedelta\n",
    "\n",
    "\n",
    "# Example maps\n",
    "map1 = {'d4bf6a6b-52b6-4633-8780-129953a2395a': datetime.datetime(2023, 12, 7, 21, 23, 37, 28346), '80a47a1d-152e-420a-a055-094f1e649a44': datetime.datetime(2023, 12, 7, 21, 23, 37, 60332), '67ceb353-b482-4e66-817a-5c921ebf4163': datetime.datetime(2023, 12, 7, 21, 23, 37, 92332), '39d3dfe1-2cbb-4b59-820c-7903d0e03fb7': datetime.datetime(2023, 12, 7, 21, 23, 37, 124329), '663ca0a3-23e8-4c0b-8d70-5ccf282b556a': datetime.datetime(2023, 12, 7, 21, 23, 37, 156349), 'c2842b68-a77e-43b5-bc30-7d28d864f215': datetime.datetime(2023, 12, 7, 21, 23, 37, 188332), 'a648c9a4-2fbd-4c81-83ff-a6473324c8fd': datetime.datetime(2023, 12, 7, 21, 23, 37, 220331), '32f20e92-5318-4543-b7d6-6eac26c57140': datetime.datetime(2023, 12, 7, 21, 23, 37, 252331), '26bd8704-28c4-4cf0-85cc-3f21c6cd2575': datetime.datetime(2023, 12, 7, 21, 23, 37, 284331), '7c455ded-eee7-48d2-8aab-bb551518df8a': datetime.datetime(2023, 12, 7, 21, 23, 37, 316348), '014928b2-f238-47df-b496-8fe50997536a': datetime.datetime(2023, 12, 7, 21, 23, 37, 348332), '92c113a4-84b6-4cbf-af81-73504016f33e': datetime.datetime(2023, 12, 7, 21, 23, 37, 380336), '660ec0a5-24a9-474f-b784-1e31fd72e8c4': datetime.datetime(2023, 12, 7, 21, 23, 37, 412350), '5f6ab242-814d-44a9-9c59-79ef82514a99': datetime.datetime(2023, 12, 7, 21, 23, 37, 444334), 'd1c80569-b03f-4749-bc83-77d788290327': datetime.datetime(2023, 12, 7, 21, 23, 37, 476335), 'feb2ff9c-0f7f-4a6d-9d73-e90faf1a0d10': datetime.datetime(2023, 12, 7, 21, 23, 37, 508332), '1f051f7e-87de-47f0-82bf-056792277f4a': datetime.datetime(2023, 12, 7, 21, 23, 37, 540332), '9e167543-f60f-4b1e-9c1e-b0a5fae1c652': datetime.datetime(2023, 12, 7, 21, 23, 37, 572332), 'ed179093-ec9a-4a23-a65d-650b326559f2': datetime.datetime(2023, 12, 7, 21, 23, 37, 604330), 'c0f238b4-2039-4cc1-8a03-4ca6932e3e5d': datetime.datetime(2023, 12, 7, 21, 23, 37, 636333), '7b870165-2a4b-4b04-b271-9a4ad5073e63': datetime.datetime(2023, 12, 7, 21, 23, 37, 668331), 'c37a1a2e-f054-4d28-84b0-c723cd13275e': datetime.datetime(2023, 12, 7, 21, 23, 37, 700353), 'c436269a-1383-4b60-8e3d-2b9745f3cc04': datetime.datetime(2023, 12, 7, 21, 23, 37, 732332), '40312bab-db70-41e5-b79b-a6b1eca94aa1': datetime.datetime(2023, 12, 7, 21, 23, 37, 764331), '464c05da-5ba7-4270-b7ea-68b19f97580f': datetime.datetime(2023, 12, 7, 21, 23, 37, 796330), 'e1d52e8a-83c1-4100-8405-2c4052ed176b': datetime.datetime(2023, 12, 7, 21, 23, 37, 828331), '01353627-1d24-4113-9063-e6381d57a544': datetime.datetime(2023, 12, 7, 21, 23, 37, 860349), '7034d48f-b4e8-4a4c-8ae4-8fae3dbeef83': datetime.datetime(2023, 12, 7, 21, 23, 37, 892332), '86378dfb-85c9-415f-933c-bec3c680a724': datetime.datetime(2023, 12, 7, 21, 23, 37, 924353), 'de151157-1ca3-4fb3-97d7-ba61d36ea78a': datetime.datetime(2023, 12, 7, 21, 23, 37, 956330), 'aa960dde-c49c-432a-8157-fbcc97aaa412': datetime.datetime(2023, 12, 7, 21, 23, 37, 988348), '41133e55-7912-4793-bfaa-49a7e1a3c08f': datetime.datetime(2023, 12, 7, 21, 23, 38, 20330), 'b6e30468-d568-45d5-814a-dcb03ceb1c27': datetime.datetime(2023, 12, 7, 21, 23, 38, 52351), '5e3c8f24-3831-487d-91ce-25fc35a4d797': datetime.datetime(2023, 12, 7, 21, 23, 38, 84331), '4059bc74-9f93-4095-b2bb-0bc9353684fc': datetime.datetime(2023, 12, 7, 21, 23, 38, 116330), '3867b948-e590-49b3-9dd1-16f0bacef5cd': datetime.datetime(2023, 12, 7, 21, 23, 38, 148331), '57e06f91-e3d6-4234-8533-02337254bce6': datetime.datetime(2023, 12, 7, 21, 23, 38, 180334), '565e7804-6dd3-413c-a9d1-14f59cab719e': datetime.datetime(2023, 12, 7, 21, 23, 38, 212331), 'fe755970-8518-4ec2-b5fb-0ea5781ae8d4': datetime.datetime(2023, 12, 7, 21, 23, 38, 244331), 'bc5ccccc-68ac-432c-a6b7-b4303def31f1': datetime.datetime(2023, 12, 7, 21, 23, 38, 276347), '0046a448-4006-40c1-8e0e-72de5b4d037a': datetime.datetime(2023, 12, 7, 21, 23, 38, 308331), '0a136dc7-36e8-4ade-867e-b779d5678cab': datetime.datetime(2023, 12, 7, 21, 23, 38, 340351), '79af2630-b896-4a40-b3dd-1cac7b13e163': datetime.datetime(2023, 12, 7, 21, 23, 38, 372331), '7fd8670f-2772-4923-834a-41c1c197ebb3': datetime.datetime(2023, 12, 7, 21, 23, 38, 404331), '5be3e716-94a9-42ab-9017-b9bb44dd8eff': datetime.datetime(2023, 12, 7, 21, 23, 38, 436331), 'a95b6307-7dac-4c35-8f30-2bcd308e0535': datetime.datetime(2023, 12, 7, 21, 23, 38, 468331), 'f99c45fe-da31-4113-a0d0-d9df5c459948': datetime.datetime(2023, 12, 7, 21, 23, 38, 500348), 'bb6370b8-4c01-4c85-8ec0-95297c973ae8': datetime.datetime(2023, 12, 7, 21, 23, 38, 532334), '2af68998-edaa-4f69-8fa7-17641efb56e1': datetime.datetime(2023, 12, 7, 21, 23, 38, 564331), '30f83526-dd5a-4f8a-b82d-6de011611c21': datetime.datetime(2023, 12, 7, 21, 23, 38, 596349)}\n",
    "\n",
    "\n",
    "map2 = {'d4bf6a6b-52b6-4633-8780-129953a2395a': datetime.datetime(2023, 12, 7, 21, 23, 38, 436019), '80a47a1d-152e-420a-a055-094f1e649a44': datetime.datetime(2023, 12, 7, 21, 23, 38, 725117), '67ceb353-b482-4e66-817a-5c921ebf4163': datetime.datetime(2023, 12, 7, 21, 23, 39, 20541), '39d3dfe1-2cbb-4b59-820c-7903d0e03fb7': datetime.datetime(2023, 12, 7, 21, 23, 39, 312357), '663ca0a3-23e8-4c0b-8d70-5ccf282b556a': datetime.datetime(2023, 12, 7, 21, 23, 39, 605148), 'c2842b68-a77e-43b5-bc30-7d28d864f215': datetime.datetime(2023, 12, 7, 21, 23, 39, 898988), 'a648c9a4-2fbd-4c81-83ff-a6473324c8fd': datetime.datetime(2023, 12, 7, 21, 23, 40, 189716), '32f20e92-5318-4543-b7d6-6eac26c57140': datetime.datetime(2023, 12, 7, 21, 23, 40, 483420), '26bd8704-28c4-4cf0-85cc-3f21c6cd2575': datetime.datetime(2023, 12, 7, 21, 23, 40, 774533), '7c455ded-eee7-48d2-8aab-bb551518df8a': datetime.datetime(2023, 12, 7, 21, 23, 41, 75382), '014928b2-f238-47df-b496-8fe50997536a': datetime.datetime(2023, 12, 7, 21, 23, 41, 375555), '92c113a4-84b6-4cbf-af81-73504016f33e': datetime.datetime(2023, 12, 7, 21, 23, 41, 681054), '660ec0a5-24a9-474f-b784-1e31fd72e8c4': datetime.datetime(2023, 12, 7, 21, 23, 41, 972469), '5f6ab242-814d-44a9-9c59-79ef82514a99': datetime.datetime(2023, 12, 7, 21, 23, 42, 268972), 'd1c80569-b03f-4749-bc83-77d788290327': datetime.datetime(2023, 12, 7, 21, 23, 42, 558572), 'feb2ff9c-0f7f-4a6d-9d73-e90faf1a0d10': datetime.datetime(2023, 12, 7, 21, 23, 42, 849357), '1f051f7e-87de-47f0-82bf-056792277f4a': datetime.datetime(2023, 12, 7, 21, 23, 43, 139794), '9e167543-f60f-4b1e-9c1e-b0a5fae1c652': datetime.datetime(2023, 12, 7, 21, 23, 43, 431210), 'ed179093-ec9a-4a23-a65d-650b326559f2': datetime.datetime(2023, 12, 7, 21, 23, 43, 720103), 'c0f238b4-2039-4cc1-8a03-4ca6932e3e5d': datetime.datetime(2023, 12, 7, 21, 23, 44, 12254), '7b870165-2a4b-4b04-b271-9a4ad5073e63': datetime.datetime(2023, 12, 7, 21, 23, 44, 304076), 'c37a1a2e-f054-4d28-84b0-c723cd13275e': datetime.datetime(2023, 12, 7, 21, 23, 44, 595174), 'c436269a-1383-4b60-8e3d-2b9745f3cc04': datetime.datetime(2023, 12, 7, 21, 23, 44, 886597), '40312bab-db70-41e5-b79b-a6b1eca94aa1': datetime.datetime(2023, 12, 7, 21, 23, 45, 177234), '464c05da-5ba7-4270-b7ea-68b19f97580f': datetime.datetime(2023, 12, 7, 21, 23, 45, 467291), 'e1d52e8a-83c1-4100-8405-2c4052ed176b': datetime.datetime(2023, 12, 7, 21, 23, 45, 757219), '01353627-1d24-4113-9063-e6381d57a544': datetime.datetime(2023, 12, 7, 21, 23, 46, 46967), '7034d48f-b4e8-4a4c-8ae4-8fae3dbeef83': datetime.datetime(2023, 12, 7, 21, 23, 46, 339348), '86378dfb-85c9-415f-933c-bec3c680a724': datetime.datetime(2023, 12, 7, 21, 23, 46, 629784), 'de151157-1ca3-4fb3-97d7-ba61d36ea78a': datetime.datetime(2023, 12, 7, 21, 23, 46, 921054), 'aa960dde-c49c-432a-8157-fbcc97aaa412': datetime.datetime(2023, 12, 7, 21, 23, 47, 211402), '41133e55-7912-4793-bfaa-49a7e1a3c08f': datetime.datetime(2023, 12, 7, 21, 23, 47, 501468), 'b6e30468-d568-45d5-814a-dcb03ceb1c27': datetime.datetime(2023, 12, 7, 21, 23, 47, 792058), '5e3c8f24-3831-487d-91ce-25fc35a4d797': datetime.datetime(2023, 12, 7, 21, 23, 48, 85166), '4059bc74-9f93-4095-b2bb-0bc9353684fc': datetime.datetime(2023, 12, 7, 21, 23, 48, 375781), '3867b948-e590-49b3-9dd1-16f0bacef5cd': datetime.datetime(2023, 12, 7, 21, 23, 48, 667650), '57e06f91-e3d6-4234-8533-02337254bce6': datetime.datetime(2023, 12, 7, 21, 23, 48, 970718), '565e7804-6dd3-413c-a9d1-14f59cab719e': datetime.datetime(2023, 12, 7, 21, 23, 49, 263649), 'fe755970-8518-4ec2-b5fb-0ea5781ae8d4': datetime.datetime(2023, 12, 7, 21, 23, 49, 555279), 'bc5ccccc-68ac-432c-a6b7-b4303def31f1': datetime.datetime(2023, 12, 7, 21, 23, 49, 848870), '0046a448-4006-40c1-8e0e-72de5b4d037a': datetime.datetime(2023, 12, 7, 21, 23, 50, 141881), '0a136dc7-36e8-4ade-867e-b779d5678cab': datetime.datetime(2023, 12, 7, 21, 23, 50, 432837), '79af2630-b896-4a40-b3dd-1cac7b13e163': datetime.datetime(2023, 12, 7, 21, 23, 50, 725085), '7fd8670f-2772-4923-834a-41c1c197ebb3': datetime.datetime(2023, 12, 7, 21, 23, 51, 17971), '5be3e716-94a9-42ab-9017-b9bb44dd8eff': datetime.datetime(2023, 12, 7, 21, 23, 51, 310737), 'a95b6307-7dac-4c35-8f30-2bcd308e0535': datetime.datetime(2023, 12, 7, 21, 23, 51, 602985), 'f99c45fe-da31-4113-a0d0-d9df5c459948': datetime.datetime(2023, 12, 7, 21, 23, 51, 895302), 'bb6370b8-4c01-4c85-8ec0-95297c973ae8': datetime.datetime(2023, 12, 7, 21, 23, 52, 187582), '2af68998-edaa-4f69-8fa7-17641efb56e1': datetime.datetime(2023, 12, 7, 21, 23, 52, 479335), '30f83526-dd5a-4f8a-b82d-6de011611c21': datetime.datetime(2023, 12, 7, 21, 23, 52, 771169)}\n",
    "\n",
    "# Calculate time differences\n",
    "time_differences = {}\n",
    "for key, time1 in map1.items():\n",
    "    if key in map2:\n",
    "        time2 = map2[key]\n",
    "        time_diff = time2 - time1\n",
    "        time_differences[key] = time_diff\n",
    "\n",
    "# Calculate the average time difference in milliseconds\n",
    "total_diff_millis = 0\n",
    "for diff in time_differences.values():\n",
    "    total_diff_millis += diff.total_seconds() * 1000  # Convert to milliseconds\n",
    "\n",
    "average_diff_millis = total_diff_millis / len(time_differences) if time_differences else 0\n",
    "\n",
    "# Print the results\n",
    "for key, diff in time_differences.items():\n",
    "    diff_millis = diff.total_seconds() * 1000\n",
    "    print(f\"Time difference for packet with ID {key}: {diff_millis:.2f} milliseconds\")\n",
    "\n",
    "print(f\"Average time difference: {average_diff_millis:.2f} milliseconds\")"
   ]
  },
  {
   "cell_type": "code",
   "execution_count": null,
   "id": "46c9c557-54ee-4569-8356-f6ed550a12c1",
   "metadata": {},
   "outputs": [],
   "source": []
  }
 ],
 "metadata": {
  "kernelspec": {
   "display_name": "Python 3 (ipykernel)",
   "language": "python",
   "name": "python3"
  },
  "language_info": {
   "codemirror_mode": {
    "name": "ipython",
    "version": 3
   },
   "file_extension": ".py",
   "mimetype": "text/x-python",
   "name": "python",
   "nbconvert_exporter": "python",
   "pygments_lexer": "ipython3",
   "version": "3.10.6"
  }
 },
 "nbformat": 4,
 "nbformat_minor": 5
}
