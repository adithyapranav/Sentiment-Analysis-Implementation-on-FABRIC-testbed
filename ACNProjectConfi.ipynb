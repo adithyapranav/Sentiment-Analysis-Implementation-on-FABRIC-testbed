{
 "cells": [
  {
   "cell_type": "markdown",
   "metadata": {},
   "source": [
    "# Sentimental Analysis"
   ]
  },
  {
   "cell_type": "markdown",
   "metadata": {},
   "source": [
    "### Configure environment"
   ]
  },
  {
   "cell_type": "code",
   "execution_count": 1,
   "metadata": {},
   "outputs": [
    {
     "data": {
      "text/html": [
       "<style type=\"text/css\">\n",
       "#T_80a72 tr:nth-child(even) {\n",
       "  background: #dbf3ff;\n",
       "  color: #231f20;\n",
       "}\n",
       "#T_80a72 tr:nth-child(odd) {\n",
       "  background: #ffffff;\n",
       "  color: #231f20;\n",
       "}\n",
       "#T_80a72 caption {\n",
       "  text-align: center;\n",
       "  font-size: 150%;\n",
       "}\n",
       "#T_80a72_row0_col0, #T_80a72_row0_col1, #T_80a72_row1_col0, #T_80a72_row1_col1, #T_80a72_row2_col0, #T_80a72_row2_col1, #T_80a72_row3_col0, #T_80a72_row3_col1, #T_80a72_row4_col0, #T_80a72_row4_col1, #T_80a72_row5_col0, #T_80a72_row5_col1, #T_80a72_row6_col0, #T_80a72_row6_col1, #T_80a72_row7_col0, #T_80a72_row7_col1, #T_80a72_row8_col0, #T_80a72_row8_col1, #T_80a72_row9_col0, #T_80a72_row9_col1, #T_80a72_row10_col0, #T_80a72_row10_col1, #T_80a72_row11_col0, #T_80a72_row11_col1, #T_80a72_row12_col0, #T_80a72_row12_col1, #T_80a72_row13_col0, #T_80a72_row13_col1 {\n",
       "  text-align: left;\n",
       "  border: 1px #231f20 solid !important;\n",
       "  overwrite: False;\n",
       "}\n",
       "</style>\n",
       "<table id=\"T_80a72\">\n",
       "  <caption>FABlib Config</caption>\n",
       "  <thead>\n",
       "  </thead>\n",
       "  <tbody>\n",
       "    <tr>\n",
       "      <td id=\"T_80a72_row0_col0\" class=\"data row0 col0\" >Credential Manager</td>\n",
       "      <td id=\"T_80a72_row0_col1\" class=\"data row0 col1\" >cm.fabric-testbed.net</td>\n",
       "    </tr>\n",
       "    <tr>\n",
       "      <td id=\"T_80a72_row1_col0\" class=\"data row1 col0\" >Orchestrator</td>\n",
       "      <td id=\"T_80a72_row1_col1\" class=\"data row1 col1\" >orchestrator.fabric-testbed.net</td>\n",
       "    </tr>\n",
       "    <tr>\n",
       "      <td id=\"T_80a72_row2_col0\" class=\"data row2 col0\" >Token File</td>\n",
       "      <td id=\"T_80a72_row2_col1\" class=\"data row2 col1\" >/home/fabric/.tokens.json</td>\n",
       "    </tr>\n",
       "    <tr>\n",
       "      <td id=\"T_80a72_row3_col0\" class=\"data row3 col0\" >Project ID</td>\n",
       "      <td id=\"T_80a72_row3_col1\" class=\"data row3 col1\" >6ce270de-788d-4e07-8bae-3206860a6387</td>\n",
       "    </tr>\n",
       "    <tr>\n",
       "      <td id=\"T_80a72_row4_col0\" class=\"data row4 col0\" >Bastion Username</td>\n",
       "      <td id=\"T_80a72_row4_col1\" class=\"data row4 col1\" >rjain116_0000108671</td>\n",
       "    </tr>\n",
       "    <tr>\n",
       "      <td id=\"T_80a72_row5_col0\" class=\"data row5 col0\" >Bastion Private Key File</td>\n",
       "      <td id=\"T_80a72_row5_col1\" class=\"data row5 col1\" >/home/fabric/work/fabric_config/fabric_bastion_key</td>\n",
       "    </tr>\n",
       "    <tr>\n",
       "      <td id=\"T_80a72_row6_col0\" class=\"data row6 col0\" >Bastion Host</td>\n",
       "      <td id=\"T_80a72_row6_col1\" class=\"data row6 col1\" >bastion.fabric-testbed.net</td>\n",
       "    </tr>\n",
       "    <tr>\n",
       "      <td id=\"T_80a72_row7_col0\" class=\"data row7 col0\" >Bastion Private Key Passphrase</td>\n",
       "      <td id=\"T_80a72_row7_col1\" class=\"data row7 col1\" >None</td>\n",
       "    </tr>\n",
       "    <tr>\n",
       "      <td id=\"T_80a72_row8_col0\" class=\"data row8 col0\" >Slice Public Key File</td>\n",
       "      <td id=\"T_80a72_row8_col1\" class=\"data row8 col1\" >/home/fabric/work/fabric_config/slice_key.pub</td>\n",
       "    </tr>\n",
       "    <tr>\n",
       "      <td id=\"T_80a72_row9_col0\" class=\"data row9 col0\" >Slice Private Key File</td>\n",
       "      <td id=\"T_80a72_row9_col1\" class=\"data row9 col1\" >/home/fabric/work/fabric_config/slice_key</td>\n",
       "    </tr>\n",
       "    <tr>\n",
       "      <td id=\"T_80a72_row10_col0\" class=\"data row10 col0\" >Slice Private Key Passphrase</td>\n",
       "      <td id=\"T_80a72_row10_col1\" class=\"data row10 col1\" >None</td>\n",
       "    </tr>\n",
       "    <tr>\n",
       "      <td id=\"T_80a72_row11_col0\" class=\"data row11 col0\" >Log File</td>\n",
       "      <td id=\"T_80a72_row11_col1\" class=\"data row11 col1\" >/home/fabric/fablib.log</td>\n",
       "    </tr>\n",
       "    <tr>\n",
       "      <td id=\"T_80a72_row12_col0\" class=\"data row12 col0\" >Log Level</td>\n",
       "      <td id=\"T_80a72_row12_col1\" class=\"data row12 col1\" >INFO</td>\n",
       "    </tr>\n",
       "    <tr>\n",
       "      <td id=\"T_80a72_row13_col0\" class=\"data row13 col0\" >Version</td>\n",
       "      <td id=\"T_80a72_row13_col1\" class=\"data row13 col1\" >1.5.4</td>\n",
       "    </tr>\n",
       "  </tbody>\n",
       "</table>\n"
      ],
      "text/plain": [
       "<pandas.io.formats.style.Styler at 0x7fb869d86560>"
      ]
     },
     "metadata": {},
     "output_type": "display_data"
    }
   ],
   "source": [
    "from fabrictestbed_extensions.fablib.fablib import FablibManager as fablib_manager\n",
    "fablib = fablib_manager() \n",
    "conf = fablib.show_config()"
   ]
  },
  {
   "cell_type": "markdown",
   "metadata": {},
   "source": [
    "### Define configuration for this experiment"
   ]
  },
  {
   "cell_type": "code",
   "execution_count": 5,
   "metadata": {},
   "outputs": [],
   "source": [
    "slice_name = \"singleThread\" + fablib.get_bastion_username()\n",
    "\n",
    "node_conf = [\n",
    "    {'name': \"source\", 'cores': 2, 'ram': 4, 'disk': 10, 'image': 'default_ubuntu_22', 'packages': ['net-tools']},\n",
    "    {'name': \"pre-processing1\", 'cores': 2, 'ram': 4, 'disk': 10, 'image': 'default_ubuntu_22', 'packages': ['net-tools']},\n",
    "    {'name': \"tokenization1\", 'cores': 2, 'ram': 4, 'disk': 10, 'image': 'default_ubuntu_22', 'packages': ['net-tools']},\n",
    "    {'name': \"feature-extraction1\", 'cores': 2, 'ram': 4, 'disk': 10, 'image': 'default_ubuntu_22', 'packages': ['net-tools']},\n",
    "    {'name': \"pre-processing2\", 'cores': 2, 'ram': 4, 'disk': 10, 'image': 'default_ubuntu_22', 'packages': ['net-tools']},\n",
    "    {'name': \"tokenization2\", 'cores': 2, 'ram': 4, 'disk': 10, 'image': 'default_ubuntu_22', 'packages': ['net-tools']},\n",
    "    {'name': \"feature-extraction2\", 'cores': 2, 'ram': 4, 'disk': 10, 'image': 'default_ubuntu_22', 'packages': ['net-tools']},\n",
    "    {'name': \"pre-processing3\", 'cores': 2, 'ram': 4, 'disk': 10, 'image': 'default_ubuntu_22', 'packages': ['net-tools']},\n",
    "    {'name': \"tokenization3\", 'cores': 2, 'ram': 4, 'disk': 10, 'image': 'default_ubuntu_22', 'packages': ['net-tools']},\n",
    "    {'name': \"feature-extraction3\", 'cores': 2, 'ram': 4, 'disk': 10, 'image': 'default_ubuntu_22', 'packages': ['net-tools']},\n",
    "    {'name': \"destination\", 'cores': 2, 'ram': 4, 'disk': 10, 'image': 'default_ubuntu_22', 'packages': ['net-tools']}\n",
    "]\n",
    "\n",
    "net_conf = [\n",
    "    {\"name\": \"net0\", \"subnet\": \"10.0.0.0/24\",\n",
    "     \"nodes\": [{\"name\": \"source\", \"addr\": \"10.0.0.1\"}, {\"name\": \"pre-processing1\", \"addr\": \"10.0.0.2\"}]},\n",
    "    {\"name\": \"net1\", \"subnet\": \"11.0.0.0/24\",\n",
    "     \"nodes\": [{\"name\": \"source\", \"addr\": \"11.0.0.1\"}, {\"name\": \"pre-processing2\", \"addr\": \"11.0.0.2\"}]},\n",
    "    {\"name\": \"net2\", \"subnet\": \"12.0.0.0/24\",\n",
    "     \"nodes\": [{\"name\": \"source\", \"addr\": \"12.0.0.1\"}, {\"name\": \"pre-processing3\", \"addr\": \"12.0.0.2\"}]},\n",
    "    \n",
    "    {\"name\": \"net3\", \"subnet\": \"10.0.1.0/24\",\n",
    "     \"nodes\": [{\"name\": \"pre-processing1\", \"addr\": \"10.0.1.1\"}, {\"name\": \"tokenization1\", \"addr\": \"10.0.1.2\"}]},\n",
    "    {\"name\": \"net4\", \"subnet\": \"11.0.1.0/24\",\n",
    "     \"nodes\": [{\"name\": \"pre-processing2\", \"addr\": \"11.0.1.1\"}, {\"name\": \"tokenization2\", \"addr\": \"11.0.1.2\"}]},\n",
    "    {\"name\": \"net5\", \"subnet\": \"12.0.1.0/24\",\n",
    "     \"nodes\": [{\"name\": \"pre-processing3\", \"addr\": \"12.0.1.1\"}, {\"name\": \"tokenization3\", \"addr\": \"12.0.1.2\"}]},\n",
    "    \n",
    "    {\"name\": \"net6\", \"subnet\": \"10.0.2.0/24\",\n",
    "     \"nodes\": [{\"name\": \"tokenization1\", \"addr\": \"10.0.2.1\"}, {\"name\": \"feature-extraction1\", \"addr\": \"10.0.2.2\"}]},\n",
    "    {\"name\": \"net7\", \"subnet\": \"11.0.2.0/24\",\n",
    "     \"nodes\": [{\"name\": \"tokenization2\", \"addr\": \"11.0.2.1\"}, {\"name\": \"feature-extraction2\", \"addr\": \"11.0.2.2\"}]},\n",
    "    {\"name\": \"net8\", \"subnet\": \"12.0.2.0/24\",\n",
    "     \"nodes\": [{\"name\": \"tokenization3\", \"addr\": \"12.0.2.1\"}, {\"name\": \"feature-extraction3\", \"addr\": \"12.0.2.2\"}]},\n",
    "    \n",
    "    {\"name\": \"net9\", \"subnet\": \"10.0.3.0/24\",\n",
    "     \"nodes\": [{\"name\": \"feature-extraction1\", \"addr\": \"10.0.3.1\"}, {\"name\": \"destination\", \"addr\": \"10.0.3.2\"}]},\n",
    "    {\"name\": \"net10\", \"subnet\": \"11.0.3.0/24\",\n",
    "     \"nodes\": [{\"name\": \"feature-extraction2\", \"addr\": \"11.0.3.1\"}, {\"name\": \"destination\", \"addr\": \"11.0.3.2\"}]},\n",
    "    {\"name\": \"net11\", \"subnet\": \"12.0.3.0/24\",\n",
    "     \"nodes\": [{\"name\": \"feature-extraction3\", \"addr\": \"12.0.3.1\"}, {\"name\": \"destination\", \"addr\": \"12.0.3.2\"}]}\n",
    "]\n",
    "\n",
    "route_conf = [\n",
    "    {\"addr\": \"10.0.1.0/24\", \"gw\": \"10.0.0.2\", \"nodes\": [\"source\"]},\n",
    "    {\"addr\": \"11.0.1.0/24\", \"gw\": \"11.0.0.2\", \"nodes\": [\"source\"]},\n",
    "    {\"addr\": \"12.0.1.0/24\", \"gw\": \"12.0.0.2\", \"nodes\": [\"source\"]},\n",
    "    \n",
    "    {\"addr\": \"10.0.2.0/24\", \"gw\": \"10.0.1.2\", \"nodes\": [\"pre-processing1\"]},\n",
    "    {\"addr\": \"11.0.2.0/24\", \"gw\": \"11.0.1.2\", \"nodes\": [\"pre-processing2\"]},\n",
    "    {\"addr\": \"12.0.2.0/24\", \"gw\": \"12.0.1.2\", \"nodes\": [\"pre-processing3\"]},\n",
    "    \n",
    "    {\"addr\": \"10.0.3.0/24\", \"gw\": \"10.0.2.2\", \"nodes\": [\"tokenization1\"]},\n",
    "    {\"addr\": \"11.0.3.0/24\", \"gw\": \"11.0.2.2\", \"nodes\": [\"tokenization2\"]},\n",
    "    {\"addr\": \"12.0.3.0/24\", \"gw\": \"12.0.2.2\", \"nodes\": [\"tokenization3\"]},\n",
    "    \n",
    "    {\"addr\": \"10.0.4.0/24\", \"gw\": \"10.0.3.1\", \"nodes\": [\"feature-extraction1\"]},\n",
    "    {\"addr\": \"11.0.4.0/24\", \"gw\": \"11.0.3.1\", \"nodes\": [\"feature-extraction2\"]},\n",
    "    {\"addr\": \"12.0.4.0/24\", \"gw\": \"12.0.3.1\", \"nodes\": [\"feature-extraction3\"]},\n",
    "    \n",
    "    {\"addr\": \"10.0.5.0/24\", \"gw\": \"10.0.4.2\", \"nodes\": [\"destination\"]},\n",
    "    {\"addr\": \"11.0.5.0/24\", \"gw\": \"11.0.4.2\", \"nodes\": [\"destination\"]},\n",
    "    {\"addr\": \"12.0.5.0/24\", \"gw\": \"12.0.4.2\", \"nodes\": [\"destination\"]}\n",
    "]\n",
    "\n",
    "exp_conf = {'cores': sum([n['cores'] for n in node_conf]), 'nic': sum([len(n['nodes']) for n in net_conf])}"
   ]
  },
  {
   "cell_type": "markdown",
   "metadata": {},
   "source": [
    "### Reserve resources\n",
    "\n",
    "Now, we are ready to reserve resources!"
   ]
  },
  {
   "cell_type": "markdown",
   "metadata": {},
   "source": [
    "First, make sure you don’t already have a slice with this name:"
   ]
  },
  {
   "cell_type": "code",
   "execution_count": 4,
   "metadata": {},
   "outputs": [
    {
     "name": "stdout",
     "output_type": "stream",
     "text": [
      "You already have a slice by this name!\n",
      "If you previously reserved resources, skip to the 'log in to resources' section.\n"
     ]
    }
   ],
   "source": [
    "try:\n",
    "    slice = fablib.get_slice(slice_name)\n",
    "    print(\"You already have a slice by this name!\")\n",
    "    print(\"If you previously reserved resources, skip to the 'log in to resources' section.\")\n",
    "except:\n",
    "    print(\"You don't have a slice named %s yet.\" % slice_name)\n",
    "    print(\"Continue to the next step to make one.\")\n",
    "    slice = fablib.new_slice(name=slice_name)"
   ]
  },
  {
   "cell_type": "markdown",
   "metadata": {},
   "source": [
    "We will select a random site that has sufficient resources for our experiment:"
   ]
  },
  {
   "cell_type": "code",
   "execution_count": 28,
   "metadata": {},
   "outputs": [
    {
     "data": {
      "text/html": [
       "<style type=\"text/css\">\n",
       "#T_5b46e tr:nth-child(even) {\n",
       "  background: #dbf3ff;\n",
       "  color: #231f20;\n",
       "}\n",
       "#T_5b46e tr:nth-child(odd) {\n",
       "  background: #ffffff;\n",
       "  color: #231f20;\n",
       "}\n",
       "#T_5b46e caption {\n",
       "  text-align: center;\n",
       "  font-size: 150%;\n",
       "}\n",
       "#T_5b46e_row0_col0, #T_5b46e_row0_col1, #T_5b46e_row1_col0, #T_5b46e_row1_col1, #T_5b46e_row2_col0, #T_5b46e_row2_col1, #T_5b46e_row3_col0, #T_5b46e_row3_col1, #T_5b46e_row4_col0, #T_5b46e_row4_col1, #T_5b46e_row5_col0, #T_5b46e_row5_col1, #T_5b46e_row6_col0, #T_5b46e_row6_col1, #T_5b46e_row7_col0, #T_5b46e_row7_col1, #T_5b46e_row8_col0, #T_5b46e_row8_col1, #T_5b46e_row9_col0, #T_5b46e_row9_col1, #T_5b46e_row10_col0, #T_5b46e_row10_col1, #T_5b46e_row11_col0, #T_5b46e_row11_col1, #T_5b46e_row12_col0, #T_5b46e_row12_col1, #T_5b46e_row13_col0, #T_5b46e_row13_col1, #T_5b46e_row14_col0, #T_5b46e_row14_col1, #T_5b46e_row15_col0, #T_5b46e_row15_col1, #T_5b46e_row16_col0, #T_5b46e_row16_col1, #T_5b46e_row17_col0, #T_5b46e_row17_col1, #T_5b46e_row18_col0, #T_5b46e_row18_col1, #T_5b46e_row19_col0, #T_5b46e_row19_col1, #T_5b46e_row20_col0, #T_5b46e_row20_col1, #T_5b46e_row21_col0, #T_5b46e_row21_col1, #T_5b46e_row22_col0, #T_5b46e_row22_col1, #T_5b46e_row23_col0, #T_5b46e_row23_col1, #T_5b46e_row24_col0, #T_5b46e_row24_col1, #T_5b46e_row25_col0, #T_5b46e_row25_col1, #T_5b46e_row26_col0, #T_5b46e_row26_col1, #T_5b46e_row27_col0, #T_5b46e_row27_col1, #T_5b46e_row28_col0, #T_5b46e_row28_col1, #T_5b46e_row29_col0, #T_5b46e_row29_col1, #T_5b46e_row30_col0, #T_5b46e_row30_col1, #T_5b46e_row31_col0, #T_5b46e_row31_col1, #T_5b46e_row32_col0, #T_5b46e_row32_col1, #T_5b46e_row33_col0, #T_5b46e_row33_col1, #T_5b46e_row34_col0, #T_5b46e_row34_col1, #T_5b46e_row35_col0, #T_5b46e_row35_col1, #T_5b46e_row36_col0, #T_5b46e_row36_col1, #T_5b46e_row37_col0, #T_5b46e_row37_col1, #T_5b46e_row38_col0, #T_5b46e_row38_col1, #T_5b46e_row39_col0, #T_5b46e_row39_col1, #T_5b46e_row40_col0, #T_5b46e_row40_col1, #T_5b46e_row41_col0, #T_5b46e_row41_col1 {\n",
       "  text-align: left;\n",
       "  border: 1px #231f20 solid !important;\n",
       "  overwrite: False;\n",
       "}\n",
       "</style>\n",
       "<table id=\"T_5b46e\">\n",
       "  <caption>Site</caption>\n",
       "  <thead>\n",
       "  </thead>\n",
       "  <tbody>\n",
       "    <tr>\n",
       "      <td id=\"T_5b46e_row0_col0\" class=\"data row0 col0\" >Name</td>\n",
       "      <td id=\"T_5b46e_row0_col1\" class=\"data row0 col1\" >KANS</td>\n",
       "    </tr>\n",
       "    <tr>\n",
       "      <td id=\"T_5b46e_row1_col0\" class=\"data row1 col0\" >State</td>\n",
       "      <td id=\"T_5b46e_row1_col1\" class=\"data row1 col1\" >Active</td>\n",
       "    </tr>\n",
       "    <tr>\n",
       "      <td id=\"T_5b46e_row2_col0\" class=\"data row2 col0\" >Address</td>\n",
       "      <td id=\"T_5b46e_row2_col1\" class=\"data row2 col1\" >1100 Walnut Street,Kansas City,MO 64106</td>\n",
       "    </tr>\n",
       "    <tr>\n",
       "      <td id=\"T_5b46e_row3_col0\" class=\"data row3 col0\" >Location</td>\n",
       "      <td id=\"T_5b46e_row3_col1\" class=\"data row3 col1\" >(39.1002384, -94.582432)</td>\n",
       "    </tr>\n",
       "    <tr>\n",
       "      <td id=\"T_5b46e_row4_col0\" class=\"data row4 col0\" >Hosts</td>\n",
       "      <td id=\"T_5b46e_row4_col1\" class=\"data row4 col1\" >3</td>\n",
       "    </tr>\n",
       "    <tr>\n",
       "      <td id=\"T_5b46e_row5_col0\" class=\"data row5 col0\" >CPUs</td>\n",
       "      <td id=\"T_5b46e_row5_col1\" class=\"data row5 col1\" >6</td>\n",
       "    </tr>\n",
       "    <tr>\n",
       "      <td id=\"T_5b46e_row6_col0\" class=\"data row6 col0\" >Cores Available</td>\n",
       "      <td id=\"T_5b46e_row6_col1\" class=\"data row6 col1\" >382</td>\n",
       "    </tr>\n",
       "    <tr>\n",
       "      <td id=\"T_5b46e_row7_col0\" class=\"data row7 col0\" >Cores Capacity</td>\n",
       "      <td id=\"T_5b46e_row7_col1\" class=\"data row7 col1\" >384</td>\n",
       "    </tr>\n",
       "    <tr>\n",
       "      <td id=\"T_5b46e_row8_col0\" class=\"data row8 col0\" >Cores Allocated</td>\n",
       "      <td id=\"T_5b46e_row8_col1\" class=\"data row8 col1\" >2</td>\n",
       "    </tr>\n",
       "    <tr>\n",
       "      <td id=\"T_5b46e_row9_col0\" class=\"data row9 col0\" >RAM Available</td>\n",
       "      <td id=\"T_5b46e_row9_col1\" class=\"data row9 col1\" >1504</td>\n",
       "    </tr>\n",
       "    <tr>\n",
       "      <td id=\"T_5b46e_row10_col0\" class=\"data row10 col0\" >RAM Capacity</td>\n",
       "      <td id=\"T_5b46e_row10_col1\" class=\"data row10 col1\" >1506</td>\n",
       "    </tr>\n",
       "    <tr>\n",
       "      <td id=\"T_5b46e_row11_col0\" class=\"data row11 col0\" >RAM Allocated</td>\n",
       "      <td id=\"T_5b46e_row11_col1\" class=\"data row11 col1\" >2</td>\n",
       "    </tr>\n",
       "    <tr>\n",
       "      <td id=\"T_5b46e_row12_col0\" class=\"data row12 col0\" >Disk Available</td>\n",
       "      <td id=\"T_5b46e_row12_col1\" class=\"data row12 col1\" >64141</td>\n",
       "    </tr>\n",
       "    <tr>\n",
       "      <td id=\"T_5b46e_row13_col0\" class=\"data row13 col0\" >Disk Capacity</td>\n",
       "      <td id=\"T_5b46e_row13_col1\" class=\"data row13 col1\" >64161</td>\n",
       "    </tr>\n",
       "    <tr>\n",
       "      <td id=\"T_5b46e_row14_col0\" class=\"data row14 col0\" >Disk Allocated</td>\n",
       "      <td id=\"T_5b46e_row14_col1\" class=\"data row14 col1\" >20</td>\n",
       "    </tr>\n",
       "    <tr>\n",
       "      <td id=\"T_5b46e_row15_col0\" class=\"data row15 col0\" >Basic NIC Available</td>\n",
       "      <td id=\"T_5b46e_row15_col1\" class=\"data row15 col1\" >379</td>\n",
       "    </tr>\n",
       "    <tr>\n",
       "      <td id=\"T_5b46e_row16_col0\" class=\"data row16 col0\" >Basic NIC Capacity</td>\n",
       "      <td id=\"T_5b46e_row16_col1\" class=\"data row16 col1\" >381</td>\n",
       "    </tr>\n",
       "    <tr>\n",
       "      <td id=\"T_5b46e_row17_col0\" class=\"data row17 col0\" >Basic NIC Allocated</td>\n",
       "      <td id=\"T_5b46e_row17_col1\" class=\"data row17 col1\" >2</td>\n",
       "    </tr>\n",
       "    <tr>\n",
       "      <td id=\"T_5b46e_row18_col0\" class=\"data row18 col0\" >ConnectX-6 Available</td>\n",
       "      <td id=\"T_5b46e_row18_col1\" class=\"data row18 col1\" >2</td>\n",
       "    </tr>\n",
       "    <tr>\n",
       "      <td id=\"T_5b46e_row19_col0\" class=\"data row19 col0\" >ConnectX-6 Capacity</td>\n",
       "      <td id=\"T_5b46e_row19_col1\" class=\"data row19 col1\" >2</td>\n",
       "    </tr>\n",
       "    <tr>\n",
       "      <td id=\"T_5b46e_row20_col0\" class=\"data row20 col0\" >ConnectX-6 Allocated</td>\n",
       "      <td id=\"T_5b46e_row20_col1\" class=\"data row20 col1\" >0</td>\n",
       "    </tr>\n",
       "    <tr>\n",
       "      <td id=\"T_5b46e_row21_col0\" class=\"data row21 col0\" >ConnectX-5 Available</td>\n",
       "      <td id=\"T_5b46e_row21_col1\" class=\"data row21 col1\" >2</td>\n",
       "    </tr>\n",
       "    <tr>\n",
       "      <td id=\"T_5b46e_row22_col0\" class=\"data row22 col0\" >ConnectX-5 Capacity</td>\n",
       "      <td id=\"T_5b46e_row22_col1\" class=\"data row22 col1\" >2</td>\n",
       "    </tr>\n",
       "    <tr>\n",
       "      <td id=\"T_5b46e_row23_col0\" class=\"data row23 col0\" >ConnectX-5 Allocated</td>\n",
       "      <td id=\"T_5b46e_row23_col1\" class=\"data row23 col1\" >0</td>\n",
       "    </tr>\n",
       "    <tr>\n",
       "      <td id=\"T_5b46e_row24_col0\" class=\"data row24 col0\" >NVMe Available</td>\n",
       "      <td id=\"T_5b46e_row24_col1\" class=\"data row24 col1\" >10</td>\n",
       "    </tr>\n",
       "    <tr>\n",
       "      <td id=\"T_5b46e_row25_col0\" class=\"data row25 col0\" >NVMe Capacity</td>\n",
       "      <td id=\"T_5b46e_row25_col1\" class=\"data row25 col1\" >10</td>\n",
       "    </tr>\n",
       "    <tr>\n",
       "      <td id=\"T_5b46e_row26_col0\" class=\"data row26 col0\" >NVMe Allocated</td>\n",
       "      <td id=\"T_5b46e_row26_col1\" class=\"data row26 col1\" >0</td>\n",
       "    </tr>\n",
       "    <tr>\n",
       "      <td id=\"T_5b46e_row27_col0\" class=\"data row27 col0\" >Tesla T4 Available</td>\n",
       "      <td id=\"T_5b46e_row27_col1\" class=\"data row27 col1\" >0</td>\n",
       "    </tr>\n",
       "    <tr>\n",
       "      <td id=\"T_5b46e_row28_col0\" class=\"data row28 col0\" >Tesla T4 Capacity</td>\n",
       "      <td id=\"T_5b46e_row28_col1\" class=\"data row28 col1\" >0</td>\n",
       "    </tr>\n",
       "    <tr>\n",
       "      <td id=\"T_5b46e_row29_col0\" class=\"data row29 col0\" >Tesla T4 Allocated</td>\n",
       "      <td id=\"T_5b46e_row29_col1\" class=\"data row29 col1\" >0</td>\n",
       "    </tr>\n",
       "    <tr>\n",
       "      <td id=\"T_5b46e_row30_col0\" class=\"data row30 col0\" >RTX6000 Available</td>\n",
       "      <td id=\"T_5b46e_row30_col1\" class=\"data row30 col1\" >0</td>\n",
       "    </tr>\n",
       "    <tr>\n",
       "      <td id=\"T_5b46e_row31_col0\" class=\"data row31 col0\" >RTX6000 Capacity</td>\n",
       "      <td id=\"T_5b46e_row31_col1\" class=\"data row31 col1\" >0</td>\n",
       "    </tr>\n",
       "    <tr>\n",
       "      <td id=\"T_5b46e_row32_col0\" class=\"data row32 col0\" >RTX6000 Allocated</td>\n",
       "      <td id=\"T_5b46e_row32_col1\" class=\"data row32 col1\" >0</td>\n",
       "    </tr>\n",
       "    <tr>\n",
       "      <td id=\"T_5b46e_row33_col0\" class=\"data row33 col0\" >A30 Available</td>\n",
       "      <td id=\"T_5b46e_row33_col1\" class=\"data row33 col1\" >4</td>\n",
       "    </tr>\n",
       "    <tr>\n",
       "      <td id=\"T_5b46e_row34_col0\" class=\"data row34 col0\" >A30 Capacity</td>\n",
       "      <td id=\"T_5b46e_row34_col1\" class=\"data row34 col1\" >4</td>\n",
       "    </tr>\n",
       "    <tr>\n",
       "      <td id=\"T_5b46e_row35_col0\" class=\"data row35 col0\" >A30 Allocated</td>\n",
       "      <td id=\"T_5b46e_row35_col1\" class=\"data row35 col1\" >0</td>\n",
       "    </tr>\n",
       "    <tr>\n",
       "      <td id=\"T_5b46e_row36_col0\" class=\"data row36 col0\" >A40 Available</td>\n",
       "      <td id=\"T_5b46e_row36_col1\" class=\"data row36 col1\" >0</td>\n",
       "    </tr>\n",
       "    <tr>\n",
       "      <td id=\"T_5b46e_row37_col0\" class=\"data row37 col0\" >A40 Capacity</td>\n",
       "      <td id=\"T_5b46e_row37_col1\" class=\"data row37 col1\" >0</td>\n",
       "    </tr>\n",
       "    <tr>\n",
       "      <td id=\"T_5b46e_row38_col0\" class=\"data row38 col0\" >A40 Allocated</td>\n",
       "      <td id=\"T_5b46e_row38_col1\" class=\"data row38 col1\" >0</td>\n",
       "    </tr>\n",
       "    <tr>\n",
       "      <td id=\"T_5b46e_row39_col0\" class=\"data row39 col0\" >U280 Available</td>\n",
       "      <td id=\"T_5b46e_row39_col1\" class=\"data row39 col1\" >1</td>\n",
       "    </tr>\n",
       "    <tr>\n",
       "      <td id=\"T_5b46e_row40_col0\" class=\"data row40 col0\" >U280 Capacity</td>\n",
       "      <td id=\"T_5b46e_row40_col1\" class=\"data row40 col1\" >1</td>\n",
       "    </tr>\n",
       "    <tr>\n",
       "      <td id=\"T_5b46e_row41_col0\" class=\"data row41 col0\" >U280 Allocated</td>\n",
       "      <td id=\"T_5b46e_row41_col1\" class=\"data row41 col1\" >0</td>\n",
       "    </tr>\n",
       "  </tbody>\n",
       "</table>\n"
      ],
      "text/plain": [
       "<pandas.io.formats.style.Styler at 0x7f8db7ba6a40>"
      ]
     },
     "metadata": {},
     "output_type": "display_data"
    },
    {
     "data": {
      "text/plain": [
       "'<pandas.io.formats.style.Styler object at 0x7f8db7ba6a40>'"
      ]
     },
     "execution_count": 28,
     "metadata": {},
     "output_type": "execute_result"
    }
   ],
   "source": [
    "while True:\n",
    "    site_name = fablib.get_random_site()\n",
    "    if ( (fablib.resources.get_core_available(site_name) > 1.2*exp_conf['cores']) and\n",
    "        (fablib.resources.get_component_available(site_name, 'SharedNIC-ConnectX-6') > 1.2**exp_conf['nic']) ):\n",
    "        break\n",
    "\n",
    "fablib.show_site(site_name)"
   ]
  },
  {
   "cell_type": "markdown",
   "metadata": {},
   "source": [
    "Then we will add hosts and network segments:"
   ]
  },
  {
   "cell_type": "code",
   "execution_count": 29,
   "metadata": {},
   "outputs": [],
   "source": [
    "# this cell sets up the nodes\n",
    "for n in node_conf:\n",
    "    slice.add_node(name=n['name'], site=site_name, \n",
    "                   cores=n['cores'], \n",
    "                   ram=n['ram'], \n",
    "                   disk=n['disk'], \n",
    "                   image=n['image'])"
   ]
  },
  {
   "cell_type": "code",
   "execution_count": 30,
   "metadata": {},
   "outputs": [],
   "source": [
    "# this cell sets up the network segments\n",
    "for n in net_conf:\n",
    "    ifaces = [slice.get_node(node[\"name\"]).add_component(model=\"NIC_Basic\", \n",
    "                                                 name=n[\"name\"]).get_interfaces()[0] for node in n['nodes'] ]\n",
    "    slice.add_l2network(name=n[\"name\"], type='L2Bridge', interfaces=ifaces)"
   ]
  },
  {
   "cell_type": "markdown",
   "metadata": {},
   "source": [
    "The following cell submits our request to the FABRIC site. The output of this cell will update automatically as the status of our request changes.\n",
    "\n",
    "-   While it is being prepared, the “State” of the slice will appear as “Configuring”.\n",
    "-   When it is ready, the “State” of the slice will change to “StableOK”.\n",
    "\n",
    "You may prefer to walk away and come back in a few minutes (for simple slices) or a few tens of minutes (for more complicated slices with many resources)."
   ]
  },
  {
   "cell_type": "code",
   "execution_count": null,
   "metadata": {},
   "outputs": [
    {
     "name": "stdout",
     "output_type": "stream",
     "text": [
      "\n",
      "Retry: 1, Time: 42 sec\n"
     ]
    },
    {
     "data": {
      "text/html": [
       "<style type=\"text/css\">\n",
       "#T_7980f tr:nth-child(even) {\n",
       "  background: #dbf3ff;\n",
       "  color: #231f20;\n",
       "}\n",
       "#T_7980f tr:nth-child(odd) {\n",
       "  background: #ffffff;\n",
       "  color: #231f20;\n",
       "}\n",
       "#T_7980f caption {\n",
       "  text-align: center;\n",
       "  font-size: 150%;\n",
       "}\n",
       "#T_7980f_row0_col0, #T_7980f_row0_col1, #T_7980f_row1_col0, #T_7980f_row1_col1, #T_7980f_row2_col0, #T_7980f_row2_col1, #T_7980f_row3_col0, #T_7980f_row3_col1, #T_7980f_row4_col0, #T_7980f_row4_col1, #T_7980f_row5_col0 {\n",
       "  text-align: left;\n",
       "  border: 1px #231f20 solid !important;\n",
       "  overwrite: False;\n",
       "  background-color: ;\n",
       "}\n",
       "#T_7980f_row5_col1 {\n",
       "  text-align: left;\n",
       "  border: 1px #231f20 solid !important;\n",
       "  overwrite: False;\n",
       "  background-color: #ffffbe;\n",
       "}\n",
       "</style>\n",
       "<table id=\"T_7980f\">\n",
       "  <caption>Slice</caption>\n",
       "  <thead>\n",
       "  </thead>\n",
       "  <tbody>\n",
       "    <tr>\n",
       "      <td id=\"T_7980f_row0_col0\" class=\"data row0 col0\" >ID</td>\n",
       "      <td id=\"T_7980f_row0_col1\" class=\"data row0 col1\" >6ae316f1-b768-4e81-994c-5df2b5966cfe</td>\n",
       "    </tr>\n",
       "    <tr>\n",
       "      <td id=\"T_7980f_row1_col0\" class=\"data row1 col0\" >Name</td>\n",
       "      <td id=\"T_7980f_row1_col1\" class=\"data row1 col1\" >multiThreadrjain116_0000108671</td>\n",
       "    </tr>\n",
       "    <tr>\n",
       "      <td id=\"T_7980f_row2_col0\" class=\"data row2 col0\" >Lease Expiration (UTC)</td>\n",
       "      <td id=\"T_7980f_row2_col1\" class=\"data row2 col1\" >2023-11-27 20:30:06 +0000</td>\n",
       "    </tr>\n",
       "    <tr>\n",
       "      <td id=\"T_7980f_row3_col0\" class=\"data row3 col0\" >Lease Start (UTC)</td>\n",
       "      <td id=\"T_7980f_row3_col1\" class=\"data row3 col1\" >2023-11-26 20:30:07 +0000</td>\n",
       "    </tr>\n",
       "    <tr>\n",
       "      <td id=\"T_7980f_row4_col0\" class=\"data row4 col0\" >Project ID</td>\n",
       "      <td id=\"T_7980f_row4_col1\" class=\"data row4 col1\" >6ce270de-788d-4e07-8bae-3206860a6387</td>\n",
       "    </tr>\n",
       "    <tr>\n",
       "      <td id=\"T_7980f_row5_col0\" class=\"data row5 col0\" >State</td>\n",
       "      <td id=\"T_7980f_row5_col1\" class=\"data row5 col1\" >Configuring</td>\n",
       "    </tr>\n",
       "  </tbody>\n",
       "</table>\n"
      ],
      "text/plain": [
       "<pandas.io.formats.style.Styler at 0x7f8d5c729690>"
      ]
     },
     "metadata": {},
     "output_type": "display_data"
    },
    {
     "data": {
      "text/html": [
       "<style type=\"text/css\">\n",
       "#T_2b7d0 caption {\n",
       "  text-align: center;\n",
       "  font-size: 150%;\n",
       "  caption-side: top;\n",
       "}\n",
       "#T_2b7d0 th {\n",
       "  text-align: left;\n",
       "}\n",
       "#T_2b7d0 tr:nth-child(even) {\n",
       "  background: #ffffff;\n",
       "  color: #231f20;\n",
       "}\n",
       "#T_2b7d0 tr:nth-child(odd) {\n",
       "  background: #dbf3ff;\n",
       "  color: #231f20;\n",
       "}\n",
       "#T_2b7d0 .level0 {\n",
       "  border: 1px black solid !important;\n",
       "  background: #ffffff;\n",
       "  color: #231f20;\n",
       "}\n",
       "#T_2b7d0_row0_col0, #T_2b7d0_row0_col1, #T_2b7d0_row0_col2, #T_2b7d0_row0_col3, #T_2b7d0_row1_col0, #T_2b7d0_row1_col1, #T_2b7d0_row1_col2, #T_2b7d0_row1_col3, #T_2b7d0_row2_col0, #T_2b7d0_row2_col1, #T_2b7d0_row2_col2, #T_2b7d0_row2_col3, #T_2b7d0_row3_col0, #T_2b7d0_row3_col1, #T_2b7d0_row3_col2, #T_2b7d0_row3_col3, #T_2b7d0_row4_col0, #T_2b7d0_row4_col1, #T_2b7d0_row4_col2, #T_2b7d0_row4_col3, #T_2b7d0_row5_col0, #T_2b7d0_row5_col1, #T_2b7d0_row5_col2, #T_2b7d0_row5_col3, #T_2b7d0_row6_col0, #T_2b7d0_row6_col1, #T_2b7d0_row6_col2, #T_2b7d0_row6_col3, #T_2b7d0_row7_col0, #T_2b7d0_row7_col1, #T_2b7d0_row7_col2, #T_2b7d0_row7_col3, #T_2b7d0_row8_col0, #T_2b7d0_row8_col1, #T_2b7d0_row8_col2, #T_2b7d0_row8_col3, #T_2b7d0_row9_col0, #T_2b7d0_row9_col1, #T_2b7d0_row9_col2, #T_2b7d0_row9_col3, #T_2b7d0_row10_col0, #T_2b7d0_row10_col1, #T_2b7d0_row10_col2, #T_2b7d0_row10_col3, #T_2b7d0_row11_col0, #T_2b7d0_row11_col1, #T_2b7d0_row11_col2, #T_2b7d0_row11_col3, #T_2b7d0_row12_col0, #T_2b7d0_row12_col1, #T_2b7d0_row12_col2, #T_2b7d0_row12_col3, #T_2b7d0_row13_col0, #T_2b7d0_row13_col1, #T_2b7d0_row13_col2, #T_2b7d0_row13_col3, #T_2b7d0_row14_col0, #T_2b7d0_row14_col1, #T_2b7d0_row14_col2, #T_2b7d0_row14_col3, #T_2b7d0_row15_col0, #T_2b7d0_row15_col1, #T_2b7d0_row15_col2, #T_2b7d0_row15_col3, #T_2b7d0_row16_col0, #T_2b7d0_row16_col1, #T_2b7d0_row16_col2, #T_2b7d0_row16_col3, #T_2b7d0_row17_col0, #T_2b7d0_row17_col1, #T_2b7d0_row17_col2, #T_2b7d0_row17_col3, #T_2b7d0_row18_col0, #T_2b7d0_row18_col1, #T_2b7d0_row18_col2, #T_2b7d0_row18_col3, #T_2b7d0_row19_col0, #T_2b7d0_row19_col1, #T_2b7d0_row19_col2, #T_2b7d0_row19_col3, #T_2b7d0_row20_col0, #T_2b7d0_row20_col1, #T_2b7d0_row20_col2, #T_2b7d0_row20_col3, #T_2b7d0_row21_col0, #T_2b7d0_row21_col1, #T_2b7d0_row21_col2, #T_2b7d0_row21_col3, #T_2b7d0_row22_col0, #T_2b7d0_row22_col1, #T_2b7d0_row22_col2, #T_2b7d0_row22_col3 {\n",
       "  text-align: left;\n",
       "  border: 1px #231f20 solid !important;\n",
       "  overwrite: False;\n",
       "}\n",
       "#T_2b7d0_row0_col4, #T_2b7d0_row1_col4, #T_2b7d0_row2_col4, #T_2b7d0_row3_col4, #T_2b7d0_row4_col4, #T_2b7d0_row5_col4, #T_2b7d0_row6_col4, #T_2b7d0_row7_col4, #T_2b7d0_row8_col4, #T_2b7d0_row9_col4, #T_2b7d0_row10_col4, #T_2b7d0_row11_col4, #T_2b7d0_row12_col4, #T_2b7d0_row13_col4, #T_2b7d0_row14_col4, #T_2b7d0_row15_col4, #T_2b7d0_row16_col4, #T_2b7d0_row17_col4, #T_2b7d0_row18_col4, #T_2b7d0_row19_col4, #T_2b7d0_row20_col4, #T_2b7d0_row21_col4, #T_2b7d0_row22_col4 {\n",
       "  text-align: left;\n",
       "  border: 1px #231f20 solid !important;\n",
       "  overwrite: False;\n",
       "  background-color: #ffffbe;\n",
       "}\n",
       "#T_2b7d0_row0_col5, #T_2b7d0_row1_col5, #T_2b7d0_row2_col5, #T_2b7d0_row3_col5, #T_2b7d0_row4_col5, #T_2b7d0_row5_col5, #T_2b7d0_row6_col5, #T_2b7d0_row7_col5, #T_2b7d0_row8_col5, #T_2b7d0_row9_col5, #T_2b7d0_row10_col5, #T_2b7d0_row11_col5, #T_2b7d0_row12_col5, #T_2b7d0_row13_col5, #T_2b7d0_row14_col5, #T_2b7d0_row15_col5, #T_2b7d0_row16_col5, #T_2b7d0_row17_col5, #T_2b7d0_row18_col5, #T_2b7d0_row19_col5, #T_2b7d0_row20_col5, #T_2b7d0_row21_col5, #T_2b7d0_row22_col5 {\n",
       "  text-align: left;\n",
       "  border: 1px #231f20 solid !important;\n",
       "  overwrite: False;\n",
       "  background-color: ;\n",
       "}\n",
       "</style>\n",
       "<table id=\"T_2b7d0\">\n",
       "  <caption>Slivers</caption>\n",
       "  <thead>\n",
       "    <tr>\n",
       "      <th id=\"T_2b7d0_level0_col0\" class=\"col_heading level0 col0\" >ID</th>\n",
       "      <th id=\"T_2b7d0_level0_col1\" class=\"col_heading level0 col1\" >Name</th>\n",
       "      <th id=\"T_2b7d0_level0_col2\" class=\"col_heading level0 col2\" >Site</th>\n",
       "      <th id=\"T_2b7d0_level0_col3\" class=\"col_heading level0 col3\" >Type</th>\n",
       "      <th id=\"T_2b7d0_level0_col4\" class=\"col_heading level0 col4\" >State</th>\n",
       "      <th id=\"T_2b7d0_level0_col5\" class=\"col_heading level0 col5\" >Error</th>\n",
       "    </tr>\n",
       "  </thead>\n",
       "  <tbody>\n",
       "    <tr>\n",
       "      <td id=\"T_2b7d0_row0_col0\" class=\"data row0 col0\" >1b16d401-a7cb-42a2-87f4-ac182962cf7c</td>\n",
       "      <td id=\"T_2b7d0_row0_col1\" class=\"data row0 col1\" >destination</td>\n",
       "      <td id=\"T_2b7d0_row0_col2\" class=\"data row0 col2\" >KANS</td>\n",
       "      <td id=\"T_2b7d0_row0_col3\" class=\"data row0 col3\" >node</td>\n",
       "      <td id=\"T_2b7d0_row0_col4\" class=\"data row0 col4\" >Ticketed</td>\n",
       "      <td id=\"T_2b7d0_row0_col5\" class=\"data row0 col5\" ></td>\n",
       "    </tr>\n",
       "    <tr>\n",
       "      <td id=\"T_2b7d0_row1_col0\" class=\"data row1 col0\" >d2c468a3-47b6-425d-a3a0-a88bef1dde9e</td>\n",
       "      <td id=\"T_2b7d0_row1_col1\" class=\"data row1 col1\" >feature-extraction1</td>\n",
       "      <td id=\"T_2b7d0_row1_col2\" class=\"data row1 col2\" >KANS</td>\n",
       "      <td id=\"T_2b7d0_row1_col3\" class=\"data row1 col3\" >node</td>\n",
       "      <td id=\"T_2b7d0_row1_col4\" class=\"data row1 col4\" >Ticketed</td>\n",
       "      <td id=\"T_2b7d0_row1_col5\" class=\"data row1 col5\" ></td>\n",
       "    </tr>\n",
       "    <tr>\n",
       "      <td id=\"T_2b7d0_row2_col0\" class=\"data row2 col0\" >fc095d41-c411-448d-ad49-823891adee8e</td>\n",
       "      <td id=\"T_2b7d0_row2_col1\" class=\"data row2 col1\" >feature-extraction2</td>\n",
       "      <td id=\"T_2b7d0_row2_col2\" class=\"data row2 col2\" >KANS</td>\n",
       "      <td id=\"T_2b7d0_row2_col3\" class=\"data row2 col3\" >node</td>\n",
       "      <td id=\"T_2b7d0_row2_col4\" class=\"data row2 col4\" >Ticketed</td>\n",
       "      <td id=\"T_2b7d0_row2_col5\" class=\"data row2 col5\" ></td>\n",
       "    </tr>\n",
       "    <tr>\n",
       "      <td id=\"T_2b7d0_row3_col0\" class=\"data row3 col0\" >dca37745-b0f1-48b9-9f17-713a959545c4</td>\n",
       "      <td id=\"T_2b7d0_row3_col1\" class=\"data row3 col1\" >feature-extraction3</td>\n",
       "      <td id=\"T_2b7d0_row3_col2\" class=\"data row3 col2\" >KANS</td>\n",
       "      <td id=\"T_2b7d0_row3_col3\" class=\"data row3 col3\" >node</td>\n",
       "      <td id=\"T_2b7d0_row3_col4\" class=\"data row3 col4\" >Ticketed</td>\n",
       "      <td id=\"T_2b7d0_row3_col5\" class=\"data row3 col5\" ></td>\n",
       "    </tr>\n",
       "    <tr>\n",
       "      <td id=\"T_2b7d0_row4_col0\" class=\"data row4 col0\" >d0d1552c-b1a6-418f-83df-39c2635d75de</td>\n",
       "      <td id=\"T_2b7d0_row4_col1\" class=\"data row4 col1\" >pre-processing1</td>\n",
       "      <td id=\"T_2b7d0_row4_col2\" class=\"data row4 col2\" >KANS</td>\n",
       "      <td id=\"T_2b7d0_row4_col3\" class=\"data row4 col3\" >node</td>\n",
       "      <td id=\"T_2b7d0_row4_col4\" class=\"data row4 col4\" >Ticketed</td>\n",
       "      <td id=\"T_2b7d0_row4_col5\" class=\"data row4 col5\" ></td>\n",
       "    </tr>\n",
       "    <tr>\n",
       "      <td id=\"T_2b7d0_row5_col0\" class=\"data row5 col0\" >0822fa94-c2c9-45bf-8511-750a97061a33</td>\n",
       "      <td id=\"T_2b7d0_row5_col1\" class=\"data row5 col1\" >pre-processing2</td>\n",
       "      <td id=\"T_2b7d0_row5_col2\" class=\"data row5 col2\" >KANS</td>\n",
       "      <td id=\"T_2b7d0_row5_col3\" class=\"data row5 col3\" >node</td>\n",
       "      <td id=\"T_2b7d0_row5_col4\" class=\"data row5 col4\" >Ticketed</td>\n",
       "      <td id=\"T_2b7d0_row5_col5\" class=\"data row5 col5\" ></td>\n",
       "    </tr>\n",
       "    <tr>\n",
       "      <td id=\"T_2b7d0_row6_col0\" class=\"data row6 col0\" >5cdbe57d-12f8-4929-a73f-049a0ea042b1</td>\n",
       "      <td id=\"T_2b7d0_row6_col1\" class=\"data row6 col1\" >pre-processing3</td>\n",
       "      <td id=\"T_2b7d0_row6_col2\" class=\"data row6 col2\" >KANS</td>\n",
       "      <td id=\"T_2b7d0_row6_col3\" class=\"data row6 col3\" >node</td>\n",
       "      <td id=\"T_2b7d0_row6_col4\" class=\"data row6 col4\" >Ticketed</td>\n",
       "      <td id=\"T_2b7d0_row6_col5\" class=\"data row6 col5\" ></td>\n",
       "    </tr>\n",
       "    <tr>\n",
       "      <td id=\"T_2b7d0_row7_col0\" class=\"data row7 col0\" >66039824-0e8b-4aaf-b473-1067d9bfc08f</td>\n",
       "      <td id=\"T_2b7d0_row7_col1\" class=\"data row7 col1\" >source</td>\n",
       "      <td id=\"T_2b7d0_row7_col2\" class=\"data row7 col2\" >KANS</td>\n",
       "      <td id=\"T_2b7d0_row7_col3\" class=\"data row7 col3\" >node</td>\n",
       "      <td id=\"T_2b7d0_row7_col4\" class=\"data row7 col4\" >Ticketed</td>\n",
       "      <td id=\"T_2b7d0_row7_col5\" class=\"data row7 col5\" ></td>\n",
       "    </tr>\n",
       "    <tr>\n",
       "      <td id=\"T_2b7d0_row8_col0\" class=\"data row8 col0\" >b12c1fde-7c73-46f1-a558-7a74c045fb62</td>\n",
       "      <td id=\"T_2b7d0_row8_col1\" class=\"data row8 col1\" >tokenization1</td>\n",
       "      <td id=\"T_2b7d0_row8_col2\" class=\"data row8 col2\" >KANS</td>\n",
       "      <td id=\"T_2b7d0_row8_col3\" class=\"data row8 col3\" >node</td>\n",
       "      <td id=\"T_2b7d0_row8_col4\" class=\"data row8 col4\" >Ticketed</td>\n",
       "      <td id=\"T_2b7d0_row8_col5\" class=\"data row8 col5\" ></td>\n",
       "    </tr>\n",
       "    <tr>\n",
       "      <td id=\"T_2b7d0_row9_col0\" class=\"data row9 col0\" >85be39a2-e6a3-491e-8d0f-9e1a1a2fbcd2</td>\n",
       "      <td id=\"T_2b7d0_row9_col1\" class=\"data row9 col1\" >tokenization2</td>\n",
       "      <td id=\"T_2b7d0_row9_col2\" class=\"data row9 col2\" >KANS</td>\n",
       "      <td id=\"T_2b7d0_row9_col3\" class=\"data row9 col3\" >node</td>\n",
       "      <td id=\"T_2b7d0_row9_col4\" class=\"data row9 col4\" >Ticketed</td>\n",
       "      <td id=\"T_2b7d0_row9_col5\" class=\"data row9 col5\" ></td>\n",
       "    </tr>\n",
       "    <tr>\n",
       "      <td id=\"T_2b7d0_row10_col0\" class=\"data row10 col0\" >9de633e8-b69c-4e8a-ae93-bd3407e4e08f</td>\n",
       "      <td id=\"T_2b7d0_row10_col1\" class=\"data row10 col1\" >tokenization3</td>\n",
       "      <td id=\"T_2b7d0_row10_col2\" class=\"data row10 col2\" >KANS</td>\n",
       "      <td id=\"T_2b7d0_row10_col3\" class=\"data row10 col3\" >node</td>\n",
       "      <td id=\"T_2b7d0_row10_col4\" class=\"data row10 col4\" >Ticketed</td>\n",
       "      <td id=\"T_2b7d0_row10_col5\" class=\"data row10 col5\" ></td>\n",
       "    </tr>\n",
       "    <tr>\n",
       "      <td id=\"T_2b7d0_row11_col0\" class=\"data row11 col0\" >cfd3fc13-59d8-4ef3-be67-d4e2c7627910</td>\n",
       "      <td id=\"T_2b7d0_row11_col1\" class=\"data row11 col1\" >net0</td>\n",
       "      <td id=\"T_2b7d0_row11_col2\" class=\"data row11 col2\" >KANS</td>\n",
       "      <td id=\"T_2b7d0_row11_col3\" class=\"data row11 col3\" >network</td>\n",
       "      <td id=\"T_2b7d0_row11_col4\" class=\"data row11 col4\" >Ticketed</td>\n",
       "      <td id=\"T_2b7d0_row11_col5\" class=\"data row11 col5\" ></td>\n",
       "    </tr>\n",
       "    <tr>\n",
       "      <td id=\"T_2b7d0_row12_col0\" class=\"data row12 col0\" >e10c12e0-d965-4ad3-9848-55e3240f323e</td>\n",
       "      <td id=\"T_2b7d0_row12_col1\" class=\"data row12 col1\" >net1</td>\n",
       "      <td id=\"T_2b7d0_row12_col2\" class=\"data row12 col2\" >KANS</td>\n",
       "      <td id=\"T_2b7d0_row12_col3\" class=\"data row12 col3\" >network</td>\n",
       "      <td id=\"T_2b7d0_row12_col4\" class=\"data row12 col4\" >Ticketed</td>\n",
       "      <td id=\"T_2b7d0_row12_col5\" class=\"data row12 col5\" ></td>\n",
       "    </tr>\n",
       "    <tr>\n",
       "      <td id=\"T_2b7d0_row13_col0\" class=\"data row13 col0\" >b6947713-f15a-427e-844e-a107f71148ca</td>\n",
       "      <td id=\"T_2b7d0_row13_col1\" class=\"data row13 col1\" >net10</td>\n",
       "      <td id=\"T_2b7d0_row13_col2\" class=\"data row13 col2\" >KANS</td>\n",
       "      <td id=\"T_2b7d0_row13_col3\" class=\"data row13 col3\" >network</td>\n",
       "      <td id=\"T_2b7d0_row13_col4\" class=\"data row13 col4\" >Ticketed</td>\n",
       "      <td id=\"T_2b7d0_row13_col5\" class=\"data row13 col5\" ></td>\n",
       "    </tr>\n",
       "    <tr>\n",
       "      <td id=\"T_2b7d0_row14_col0\" class=\"data row14 col0\" >eefc4113-b28f-49a8-a01b-1037b1f32012</td>\n",
       "      <td id=\"T_2b7d0_row14_col1\" class=\"data row14 col1\" >net11</td>\n",
       "      <td id=\"T_2b7d0_row14_col2\" class=\"data row14 col2\" >KANS</td>\n",
       "      <td id=\"T_2b7d0_row14_col3\" class=\"data row14 col3\" >network</td>\n",
       "      <td id=\"T_2b7d0_row14_col4\" class=\"data row14 col4\" >Ticketed</td>\n",
       "      <td id=\"T_2b7d0_row14_col5\" class=\"data row14 col5\" ></td>\n",
       "    </tr>\n",
       "    <tr>\n",
       "      <td id=\"T_2b7d0_row15_col0\" class=\"data row15 col0\" >668a4c05-6fa9-468e-83f5-cd1563ab7555</td>\n",
       "      <td id=\"T_2b7d0_row15_col1\" class=\"data row15 col1\" >net2</td>\n",
       "      <td id=\"T_2b7d0_row15_col2\" class=\"data row15 col2\" >KANS</td>\n",
       "      <td id=\"T_2b7d0_row15_col3\" class=\"data row15 col3\" >network</td>\n",
       "      <td id=\"T_2b7d0_row15_col4\" class=\"data row15 col4\" >Ticketed</td>\n",
       "      <td id=\"T_2b7d0_row15_col5\" class=\"data row15 col5\" ></td>\n",
       "    </tr>\n",
       "    <tr>\n",
       "      <td id=\"T_2b7d0_row16_col0\" class=\"data row16 col0\" >aa696f30-5972-4e46-ba8f-18a4644f1bf8</td>\n",
       "      <td id=\"T_2b7d0_row16_col1\" class=\"data row16 col1\" >net3</td>\n",
       "      <td id=\"T_2b7d0_row16_col2\" class=\"data row16 col2\" >KANS</td>\n",
       "      <td id=\"T_2b7d0_row16_col3\" class=\"data row16 col3\" >network</td>\n",
       "      <td id=\"T_2b7d0_row16_col4\" class=\"data row16 col4\" >Ticketed</td>\n",
       "      <td id=\"T_2b7d0_row16_col5\" class=\"data row16 col5\" ></td>\n",
       "    </tr>\n",
       "    <tr>\n",
       "      <td id=\"T_2b7d0_row17_col0\" class=\"data row17 col0\" >6d7a136e-db57-477b-bac6-2d8d69c919c1</td>\n",
       "      <td id=\"T_2b7d0_row17_col1\" class=\"data row17 col1\" >net4</td>\n",
       "      <td id=\"T_2b7d0_row17_col2\" class=\"data row17 col2\" >KANS</td>\n",
       "      <td id=\"T_2b7d0_row17_col3\" class=\"data row17 col3\" >network</td>\n",
       "      <td id=\"T_2b7d0_row17_col4\" class=\"data row17 col4\" >Ticketed</td>\n",
       "      <td id=\"T_2b7d0_row17_col5\" class=\"data row17 col5\" ></td>\n",
       "    </tr>\n",
       "    <tr>\n",
       "      <td id=\"T_2b7d0_row18_col0\" class=\"data row18 col0\" >f47211dc-cc87-4304-93d2-df015a8224a1</td>\n",
       "      <td id=\"T_2b7d0_row18_col1\" class=\"data row18 col1\" >net5</td>\n",
       "      <td id=\"T_2b7d0_row18_col2\" class=\"data row18 col2\" >KANS</td>\n",
       "      <td id=\"T_2b7d0_row18_col3\" class=\"data row18 col3\" >network</td>\n",
       "      <td id=\"T_2b7d0_row18_col4\" class=\"data row18 col4\" >Ticketed</td>\n",
       "      <td id=\"T_2b7d0_row18_col5\" class=\"data row18 col5\" ></td>\n",
       "    </tr>\n",
       "    <tr>\n",
       "      <td id=\"T_2b7d0_row19_col0\" class=\"data row19 col0\" >167ca353-753f-47bb-bdb2-dc3b7dbb04bf</td>\n",
       "      <td id=\"T_2b7d0_row19_col1\" class=\"data row19 col1\" >net6</td>\n",
       "      <td id=\"T_2b7d0_row19_col2\" class=\"data row19 col2\" >KANS</td>\n",
       "      <td id=\"T_2b7d0_row19_col3\" class=\"data row19 col3\" >network</td>\n",
       "      <td id=\"T_2b7d0_row19_col4\" class=\"data row19 col4\" >Ticketed</td>\n",
       "      <td id=\"T_2b7d0_row19_col5\" class=\"data row19 col5\" ></td>\n",
       "    </tr>\n",
       "    <tr>\n",
       "      <td id=\"T_2b7d0_row20_col0\" class=\"data row20 col0\" >41aba794-fb75-40b9-967d-2ec6122de336</td>\n",
       "      <td id=\"T_2b7d0_row20_col1\" class=\"data row20 col1\" >net7</td>\n",
       "      <td id=\"T_2b7d0_row20_col2\" class=\"data row20 col2\" >KANS</td>\n",
       "      <td id=\"T_2b7d0_row20_col3\" class=\"data row20 col3\" >network</td>\n",
       "      <td id=\"T_2b7d0_row20_col4\" class=\"data row20 col4\" >Ticketed</td>\n",
       "      <td id=\"T_2b7d0_row20_col5\" class=\"data row20 col5\" ></td>\n",
       "    </tr>\n",
       "    <tr>\n",
       "      <td id=\"T_2b7d0_row21_col0\" class=\"data row21 col0\" >830c4176-c930-4832-bbbb-eb66b3285253</td>\n",
       "      <td id=\"T_2b7d0_row21_col1\" class=\"data row21 col1\" >net8</td>\n",
       "      <td id=\"T_2b7d0_row21_col2\" class=\"data row21 col2\" >KANS</td>\n",
       "      <td id=\"T_2b7d0_row21_col3\" class=\"data row21 col3\" >network</td>\n",
       "      <td id=\"T_2b7d0_row21_col4\" class=\"data row21 col4\" >Ticketed</td>\n",
       "      <td id=\"T_2b7d0_row21_col5\" class=\"data row21 col5\" ></td>\n",
       "    </tr>\n",
       "    <tr>\n",
       "      <td id=\"T_2b7d0_row22_col0\" class=\"data row22 col0\" >fe0d7547-4670-4138-b90c-0b48cfb505ee</td>\n",
       "      <td id=\"T_2b7d0_row22_col1\" class=\"data row22 col1\" >net9</td>\n",
       "      <td id=\"T_2b7d0_row22_col2\" class=\"data row22 col2\" >KANS</td>\n",
       "      <td id=\"T_2b7d0_row22_col3\" class=\"data row22 col3\" >network</td>\n",
       "      <td id=\"T_2b7d0_row22_col4\" class=\"data row22 col4\" >Ticketed</td>\n",
       "      <td id=\"T_2b7d0_row22_col5\" class=\"data row22 col5\" ></td>\n",
       "    </tr>\n",
       "  </tbody>\n",
       "</table>\n"
      ],
      "text/plain": [
       "<pandas.io.formats.style.Styler at 0x7f8d5c729600>"
      ]
     },
     "metadata": {},
     "output_type": "display_data"
    }
   ],
   "source": [
    "slice.submit()"
   ]
  },
  {
   "cell_type": "code",
   "execution_count": null,
   "metadata": {},
   "outputs": [],
   "source": [
    "slice.get_state()\n",
    "slice.wait_ssh(progress=True)"
   ]
  },
  {
   "cell_type": "markdown",
   "metadata": {},
   "source": [
    "### Configure resources\n",
    "\n",
    "Next, we will configure the resources so they are ready to use."
   ]
  },
  {
   "cell_type": "code",
   "execution_count": 6,
   "metadata": {},
   "outputs": [],
   "source": [
    "slice = fablib.get_slice(name=slice_name)"
   ]
  },
  {
   "cell_type": "code",
   "execution_count": null,
   "metadata": {},
   "outputs": [],
   "source": [
    "# install packages\n",
    "# this will take a while and will run in background while you do other steps\n",
    "for n in node_conf:\n",
    "    if len(n['packages']):\n",
    "        node = slice.get_node(n['name'])\n",
    "        pkg = \" \".join(n['packages'])\n",
    "        node.execute_thread(\"sudo apt update; sudo apt -y install %s\" % pkg)"
   ]
  },
  {
   "cell_type": "code",
   "execution_count": null,
   "metadata": {},
   "outputs": [],
   "source": [
    "# bring interfaces up and either assign an address (if there is one) or flush address\n",
    "from ipaddress import ip_address, IPv4Address, IPv4Network\n",
    "\n",
    "for net in net_conf:\n",
    "    for n in net['nodes']:\n",
    "        if_name = n['name'] + '-' + net['name'] + '-p1'\n",
    "        iface = slice.get_interface(if_name)\n",
    "        iface.ip_link_up()\n",
    "        if n['addr']:\n",
    "            iface.ip_addr_add(addr=n['addr'], subnet=IPv4Network(net['subnet']))\n",
    "        else:\n",
    "            iface.get_node().execute(\"sudo ip addr flush dev %s\"  % iface.get_device_name())"
   ]
  },
  {
   "cell_type": "code",
   "execution_count": null,
   "metadata": {},
   "outputs": [],
   "source": [
    "# prepare a \"hosts\" file that has names and addresses of every node\n",
    "hosts_txt = [ \"%s\\t%s\" % ( n['addr'], n['name'] ) for net in net_conf  for n in net['nodes'] if type(n) is dict and n['addr']]\n",
    "for n in slice.get_nodes():\n",
    "    for h in hosts_txt:\n",
    "        n.execute(\"echo %s | sudo tee -a /etc/hosts\" % h)"
   ]
  },
  {
   "cell_type": "code",
   "execution_count": null,
   "metadata": {},
   "outputs": [],
   "source": [
    "# enable IPv4 forwarding on all nodes\n",
    "for n in slice.get_nodes():\n",
    "    n.execute(\"sudo sysctl -w net.ipv4.ip_forward=1\")"
   ]
  },
  {
   "cell_type": "code",
   "execution_count": null,
   "metadata": {},
   "outputs": [],
   "source": [
    "# set up static routes\n",
    "for rt in route_conf:\n",
    "    for n in rt['nodes']:\n",
    "        slice.get_node(name=n).ip_route_add(subnet=IPv4Network(rt['addr']), gateway=rt['gw'])"
   ]
  },
  {
   "cell_type": "markdown",
   "metadata": {},
   "source": [
    "### Draw the network topology"
   ]
  },
  {
   "cell_type": "markdown",
   "metadata": {},
   "source": [
    "The following cell will draw the network topology, for your reference. The interface name and addresses of each experiment interface will be shown on the drawing."
   ]
  },
  {
   "cell_type": "code",
   "execution_count": null,
   "metadata": {},
   "outputs": [],
   "source": [
    "l2_nets = [(n.get_name(), {'color': 'lavender'}) for n in slice.get_l2networks() ]\n",
    "l3_nets = [(n.get_name(), {'color': 'pink'}) for n in slice.get_l3networks() ]\n",
    "hosts   =   [(n.get_name(), {'color': 'lightblue'}) for n in slice.get_nodes()]\n",
    "nodes = l2_nets + l3_nets + hosts\n",
    "ifaces = [iface.toDict() for iface in slice.get_interfaces()]\n",
    "edges = [(iface['network'], iface['node'], \n",
    "          {'label': iface['physical_dev'] + '\\n' + iface['ip_addr'] + '\\n' + iface['mac']}) for iface in ifaces]"
   ]
  },
  {
   "cell_type": "code",
   "execution_count": null,
   "metadata": {},
   "outputs": [],
   "source": [
    "import networkx as nx\n",
    "import matplotlib.pyplot as plt\n",
    "plt.figure(figsize=(len(nodes),len(nodes)))\n",
    "G = nx.Graph()\n",
    "G.add_nodes_from(nodes)\n",
    "G.add_edges_from(edges)\n",
    "pos = nx.spring_layout(G)\n",
    "nx.draw(G, pos, node_shape='s',  \n",
    "        node_color=[n[1]['color'] for n in nodes], \n",
    "        node_size=[len(n[0])*400 for n in nodes],  \n",
    "        with_labels=True);\n",
    "nx.draw_networkx_edge_labels(G,pos,\n",
    "                             edge_labels=nx.get_edge_attributes(G,'label'),\n",
    "                             font_color='gray',  font_size=8, rotate=False);"
   ]
  },
  {
   "cell_type": "markdown",
   "metadata": {},
   "source": [
    "### Log into resources"
   ]
  },
  {
   "cell_type": "markdown",
   "metadata": {},
   "source": [
    "Now, we are finally ready to log in to our resources over SSH! Run the following cells, and observe the table output - you will see an SSH command for each of the resources in your topology."
   ]
  },
  {
   "cell_type": "code",
   "execution_count": 9,
   "metadata": {},
   "outputs": [
    {
     "data": {
      "text/html": [
       "<div>\n",
       "<style scoped>\n",
       "    .dataframe tbody tr th:only-of-type {\n",
       "        vertical-align: middle;\n",
       "    }\n",
       "\n",
       "    .dataframe tbody tr th {\n",
       "        vertical-align: top;\n",
       "    }\n",
       "\n",
       "    .dataframe thead th {\n",
       "        text-align: right;\n",
       "    }\n",
       "</style>\n",
       "<table border=\"1\" class=\"dataframe\">\n",
       "  <thead>\n",
       "    <tr style=\"text-align: right;\">\n",
       "      <th></th>\n",
       "      <th>SSH command</th>\n",
       "    </tr>\n",
       "    <tr>\n",
       "      <th>Name</th>\n",
       "      <th></th>\n",
       "    </tr>\n",
       "  </thead>\n",
       "  <tbody>\n",
       "    <tr>\n",
       "      <th>source</th>\n",
       "      <td>ssh -i /home/fabric/work/fabric_config/slice_key -F /home/fabric/work/fabric_config/ssh_config ubuntu@2001:400:a100:3080:f816:3eff:fec2:49e6</td>\n",
       "    </tr>\n",
       "    <tr>\n",
       "      <th>pre-processing</th>\n",
       "      <td>ssh -i /home/fabric/work/fabric_config/slice_key -F /home/fabric/work/fabric_config/ssh_config ubuntu@2001:400:a100:3080:f816:3eff:fe60:ffff</td>\n",
       "    </tr>\n",
       "    <tr>\n",
       "      <th>tokenization</th>\n",
       "      <td>ssh -i /home/fabric/work/fabric_config/slice_key -F /home/fabric/work/fabric_config/ssh_config ubuntu@2001:400:a100:3080:f816:3eff:feb2:5a5a</td>\n",
       "    </tr>\n",
       "    <tr>\n",
       "      <th>feature-extraction</th>\n",
       "      <td>ssh -i /home/fabric/work/fabric_config/slice_key -F /home/fabric/work/fabric_config/ssh_config ubuntu@2001:400:a100:3080:f816:3eff:fe1e:b104</td>\n",
       "    </tr>\n",
       "    <tr>\n",
       "      <th>destination</th>\n",
       "      <td>ssh -i /home/fabric/work/fabric_config/slice_key -F /home/fabric/work/fabric_config/ssh_config ubuntu@2001:400:a100:3080:f816:3eff:fede:b543</td>\n",
       "    </tr>\n",
       "  </tbody>\n",
       "</table>\n",
       "</div>"
      ],
      "text/plain": [
       "                                                                                                                                                     SSH command\n",
       "Name                                                                                                                                                            \n",
       "source              ssh -i /home/fabric/work/fabric_config/slice_key -F /home/fabric/work/fabric_config/ssh_config ubuntu@2001:400:a100:3080:f816:3eff:fec2:49e6\n",
       "pre-processing      ssh -i /home/fabric/work/fabric_config/slice_key -F /home/fabric/work/fabric_config/ssh_config ubuntu@2001:400:a100:3080:f816:3eff:fe60:ffff\n",
       "tokenization        ssh -i /home/fabric/work/fabric_config/slice_key -F /home/fabric/work/fabric_config/ssh_config ubuntu@2001:400:a100:3080:f816:3eff:feb2:5a5a\n",
       "feature-extraction  ssh -i /home/fabric/work/fabric_config/slice_key -F /home/fabric/work/fabric_config/ssh_config ubuntu@2001:400:a100:3080:f816:3eff:fe1e:b104\n",
       "destination         ssh -i /home/fabric/work/fabric_config/slice_key -F /home/fabric/work/fabric_config/ssh_config ubuntu@2001:400:a100:3080:f816:3eff:fede:b543"
      ]
     },
     "execution_count": 9,
     "metadata": {},
     "output_type": "execute_result"
    }
   ],
   "source": [
    "import pandas as pd\n",
    "\n",
    "slice = fablib.get_slice(name=\"singleThread\" + fablib.get_bastion_username())\n",
    "\n",
    "\n",
    "pd.set_option('display.max_colwidth', None)\n",
    "slice_info = [{'Name': n.get_name(), 'SSH command': n.get_ssh_command()} for n in slice.get_nodes()]\n",
    "pd.DataFrame(slice_info).set_index('Name')"
   ]
  },
  {
   "cell_type": "code",
   "execution_count": 10,
   "metadata": {},
   "outputs": [
    {
     "data": {
      "text/html": [
       "<div>\n",
       "<style scoped>\n",
       "    .dataframe tbody tr th:only-of-type {\n",
       "        vertical-align: middle;\n",
       "    }\n",
       "\n",
       "    .dataframe tbody tr th {\n",
       "        vertical-align: top;\n",
       "    }\n",
       "\n",
       "    .dataframe thead th {\n",
       "        text-align: right;\n",
       "    }\n",
       "</style>\n",
       "<table border=\"1\" class=\"dataframe\">\n",
       "  <thead>\n",
       "    <tr style=\"text-align: right;\">\n",
       "      <th></th>\n",
       "      <th>SSH command</th>\n",
       "    </tr>\n",
       "    <tr>\n",
       "      <th>Name</th>\n",
       "      <th></th>\n",
       "    </tr>\n",
       "  </thead>\n",
       "  <tbody>\n",
       "    <tr>\n",
       "      <th>tokenization2</th>\n",
       "      <td>ssh -i /home/fabric/work/fabric_config/slice_key -F /home/fabric/work/fabric_config/ssh_config ubuntu@2001:400:a100:3060:f816:3eff:fed8:b774</td>\n",
       "    </tr>\n",
       "    <tr>\n",
       "      <th>feature-extraction2</th>\n",
       "      <td>ssh -i /home/fabric/work/fabric_config/slice_key -F /home/fabric/work/fabric_config/ssh_config ubuntu@2001:400:a100:3060:f816:3eff:fe77:bf96</td>\n",
       "    </tr>\n",
       "    <tr>\n",
       "      <th>pre-processing3</th>\n",
       "      <td>ssh -i /home/fabric/work/fabric_config/slice_key -F /home/fabric/work/fabric_config/ssh_config ubuntu@2001:400:a100:3060:f816:3eff:fe63:d64d</td>\n",
       "    </tr>\n",
       "    <tr>\n",
       "      <th>tokenization3</th>\n",
       "      <td>ssh -i /home/fabric/work/fabric_config/slice_key -F /home/fabric/work/fabric_config/ssh_config ubuntu@2001:400:a100:3060:f816:3eff:fe63:722f</td>\n",
       "    </tr>\n",
       "    <tr>\n",
       "      <th>feature-extraction3</th>\n",
       "      <td>ssh -i /home/fabric/work/fabric_config/slice_key -F /home/fabric/work/fabric_config/ssh_config ubuntu@2001:400:a100:3060:f816:3eff:fe2f:486b</td>\n",
       "    </tr>\n",
       "    <tr>\n",
       "      <th>destination</th>\n",
       "      <td>ssh -i /home/fabric/work/fabric_config/slice_key -F /home/fabric/work/fabric_config/ssh_config ubuntu@2001:400:a100:3060:f816:3eff:fee9:701b</td>\n",
       "    </tr>\n",
       "    <tr>\n",
       "      <th>source</th>\n",
       "      <td>ssh -i /home/fabric/work/fabric_config/slice_key -F /home/fabric/work/fabric_config/ssh_config ubuntu@2001:400:a100:3060:f816:3eff:fe19:3a</td>\n",
       "    </tr>\n",
       "    <tr>\n",
       "      <th>pre-processing1</th>\n",
       "      <td>ssh -i /home/fabric/work/fabric_config/slice_key -F /home/fabric/work/fabric_config/ssh_config ubuntu@2001:400:a100:3060:f816:3eff:fe0a:cc55</td>\n",
       "    </tr>\n",
       "    <tr>\n",
       "      <th>tokenization1</th>\n",
       "      <td>ssh -i /home/fabric/work/fabric_config/slice_key -F /home/fabric/work/fabric_config/ssh_config ubuntu@2001:400:a100:3060:f816:3eff:fe39:3e78</td>\n",
       "    </tr>\n",
       "    <tr>\n",
       "      <th>feature-extraction1</th>\n",
       "      <td>ssh -i /home/fabric/work/fabric_config/slice_key -F /home/fabric/work/fabric_config/ssh_config ubuntu@2001:400:a100:3060:f816:3eff:fe94:450d</td>\n",
       "    </tr>\n",
       "    <tr>\n",
       "      <th>pre-processing2</th>\n",
       "      <td>ssh -i /home/fabric/work/fabric_config/slice_key -F /home/fabric/work/fabric_config/ssh_config ubuntu@2001:400:a100:3060:f816:3eff:fe66:e97c</td>\n",
       "    </tr>\n",
       "  </tbody>\n",
       "</table>\n",
       "</div>"
      ],
      "text/plain": [
       "                                                                                                                                                      SSH command\n",
       "Name                                                                                                                                                             \n",
       "tokenization2        ssh -i /home/fabric/work/fabric_config/slice_key -F /home/fabric/work/fabric_config/ssh_config ubuntu@2001:400:a100:3060:f816:3eff:fed8:b774\n",
       "feature-extraction2  ssh -i /home/fabric/work/fabric_config/slice_key -F /home/fabric/work/fabric_config/ssh_config ubuntu@2001:400:a100:3060:f816:3eff:fe77:bf96\n",
       "pre-processing3      ssh -i /home/fabric/work/fabric_config/slice_key -F /home/fabric/work/fabric_config/ssh_config ubuntu@2001:400:a100:3060:f816:3eff:fe63:d64d\n",
       "tokenization3        ssh -i /home/fabric/work/fabric_config/slice_key -F /home/fabric/work/fabric_config/ssh_config ubuntu@2001:400:a100:3060:f816:3eff:fe63:722f\n",
       "feature-extraction3  ssh -i /home/fabric/work/fabric_config/slice_key -F /home/fabric/work/fabric_config/ssh_config ubuntu@2001:400:a100:3060:f816:3eff:fe2f:486b\n",
       "destination          ssh -i /home/fabric/work/fabric_config/slice_key -F /home/fabric/work/fabric_config/ssh_config ubuntu@2001:400:a100:3060:f816:3eff:fee9:701b\n",
       "source                 ssh -i /home/fabric/work/fabric_config/slice_key -F /home/fabric/work/fabric_config/ssh_config ubuntu@2001:400:a100:3060:f816:3eff:fe19:3a\n",
       "pre-processing1      ssh -i /home/fabric/work/fabric_config/slice_key -F /home/fabric/work/fabric_config/ssh_config ubuntu@2001:400:a100:3060:f816:3eff:fe0a:cc55\n",
       "tokenization1        ssh -i /home/fabric/work/fabric_config/slice_key -F /home/fabric/work/fabric_config/ssh_config ubuntu@2001:400:a100:3060:f816:3eff:fe39:3e78\n",
       "feature-extraction1  ssh -i /home/fabric/work/fabric_config/slice_key -F /home/fabric/work/fabric_config/ssh_config ubuntu@2001:400:a100:3060:f816:3eff:fe94:450d\n",
       "pre-processing2      ssh -i /home/fabric/work/fabric_config/slice_key -F /home/fabric/work/fabric_config/ssh_config ubuntu@2001:400:a100:3060:f816:3eff:fe66:e97c"
      ]
     },
     "execution_count": 10,
     "metadata": {},
     "output_type": "execute_result"
    }
   ],
   "source": [
    "slice = fablib.get_slice(name=\"multiThread\" + fablib.get_bastion_username())\n",
    "pd.set_option('display.max_colwidth', None)\n",
    "slice_info = [{'Name': n.get_name(), 'SSH command': n.get_ssh_command()} for n in slice.get_nodes()]\n",
    "pd.DataFrame(slice_info).set_index('Name')"
   ]
  },
  {
   "cell_type": "markdown",
   "metadata": {},
   "source": [
    "Now, you can open an SSH session on any of the resources as follows:\n",
    "\n",
    "-   in Jupyter, from the menu bar, use File \\> New \\> Terminal to open a new terminal.\n",
    "-   copy an SSH command from the table, and paste it into the terminal. (Note that each SSH command is a single line, even if the display wraps the text to a second line! When you copy and paste it, paste it all together.)\n",
    "\n",
    "You can repeat this process (open several terminals) to start a session on each resource. Each terminal session will have a tab in the Jupyter environment, so that you can easily switch between them."
   ]
  },
  {
   "cell_type": "markdown",
   "metadata": {},
   "source": [
    "## Transfer files from a FABRIC host\n",
    "\n",
    "In future experiments, we’ll often want to save the results of an experiment to a file on a FABRIC host, then transfer it to our own laptop for further inspection and analysis. In this exercise, we will learn how to do that!"
   ]
  },
  {
   "cell_type": "markdown",
   "metadata": {},
   "source": [
    "As described above, open an SSH session to the “romeo” host in your topology. On this host, run the following command:\n",
    "\n",
    "    ping -c 10 10.0.1.2 | tee ping.txt\n",
    "\n",
    "This will:\n",
    "\n",
    "-   send a sequence of “ICMP echo” messages to the “juliet” host, which will trigger a response from “juliet”\n",
    "-   save the results - which includes the round trip delay from the time when the request is sent from “romeo”, to the time that the response from “juliet” is received - to a file `ping.txt`. (The results will also be displayed in the terminal output.)"
   ]
  },
  {
   "cell_type": "markdown",
   "metadata": {},
   "source": [
    "Now, in this notebook, run"
   ]
  },
  {
   "cell_type": "code",
   "execution_count": 19,
   "metadata": {},
   "outputs": [
    {
     "data": {
      "text/plain": [
       "<SFTPAttributes: [ size=626 uid=1000 gid=1000 mode=0o100664 atime=1701107211 mtime=1701107211 ]>"
      ]
     },
     "execution_count": 19,
     "metadata": {},
     "output_type": "execute_result"
    }
   ],
   "source": [
    "\n",
    "slice = fablib.get_slice(name=\"singleThread\" + fablib.get_bastion_username())\n",
    "\n",
    "slice.get_node(\"source\").upload_file(\"/home/fabric/work/Project/receiveAndForward.py\", \"/home/ubuntu/receiveAndForward.py\")\n",
    "slice.get_node(\"source\").upload_file(\"/home/fabric/work/Project/sender.py\", \"/home/ubuntu/sender.py\")\n",
    "\n",
    "slice.get_node(\"pre-processing\").upload_file(\"/home/fabric/work/Project/receiveAndForward.py\", \"/home/ubuntu/receiveAndForward.py\")\n",
    "slice.get_node(\"pre-processing\").upload_file(\"/home/fabric/work/Project/sender.py\", \"/home/ubuntu/sender.py\")\n",
    "\n",
    "slice.get_node(\"tokenization\").upload_file(\"/home/fabric/work/Project/receiveAndForward.py\", \"/home/ubuntu/receiveAndForward.py\")\n",
    "slice.get_node(\"tokenization\").upload_file(\"/home/fabric/work/Project/sender.py\", \"/home/ubuntu/sender.py\")\n",
    "\n",
    "slice.get_node(\"feature-extraction\").upload_file(\"/home/fabric/work/Project/receiveAndForward.py\", \"/home/ubuntu/receiveAndForward.py\")\n",
    "slice.get_node(\"feature-extraction\").upload_file(\"/home/fabric/work/Project/sender.py\", \"/home/ubuntu/sender.py\")\n",
    "\n",
    "slice.get_node(\"destination\").upload_file(\"/home/fabric/work/Project/receiveAndForward.py\", \"/home/ubuntu/receiveAndForward.py\")\n",
    "slice.get_node(\"destination\").upload_file(\"/home/fabric/work/Project/sender.py\", \"/home/ubuntu/sender.py\")\n",
    "\n",
    "#slice.get_node(\"pre-processing\").upload_file(\"/Project/receiveAndForward.py\", \"/home/Project/receiveAndForward.py\")\n",
    "#slice.get_node(\"pre-processing\").upload_file(\"/Project/sender.py\", \"/home/Project/sender.py\")\n",
    "\n",
    "#slice.get_node(\"tokenization\").upload_file(\"/Project/receiveAndForward.py\", \"/home/Project/receiveAndForward.py\")\n",
    "#slice.get_node(\"tokenization\").upload_file(\"/Project/sender.py\", \"/home/Project/sender.py\")\n",
    "\n",
    "#slice.get_node(\"feature-extraction\").upload_file(\"/Project/receiveAndForward.py\", \"/home/Project/receiveAndForward.py\")\n",
    "#slice.get_node(\"feature-extraction\").upload_file(\"/Project/sender.py\", \"/home/Project/sender.py\")\n",
    "\n",
    "#slice.get_node(\"destination\").upload_file(\"/fabric/receiveAndForward.py\", \"/home/Project/receiveAndForward.py\")\n",
    "#slice.get_node(\"destination\").upload_file(\"/fabric/sender.py\", \"/home/Project/sender.py\")\n",
    "\n",
    "\n"
   ]
  },
  {
   "cell_type": "code",
   "execution_count": 2,
   "metadata": {},
   "outputs": [
    {
     "data": {
      "text/plain": [
       "<SFTPAttributes: [ size=2974318 uid=1000 gid=1000 mode=0o100664 atime=1701230642 mtime=1701230643 ]>"
      ]
     },
     "execution_count": 2,
     "metadata": {},
     "output_type": "execute_result"
    }
   ],
   "source": [
    "slice = fablib.get_slice(name=\"singleThread\" + fablib.get_bastion_username())\n",
    "\n",
    "\n",
    "slice.get_node(\"feature-extraction\").upload_file(\"/home/fabric/work/Project/sentiment_model.joblib\", \"/home/ubuntu/sentiment_model.joblib\")\n",
    "slice.get_node(\"feature-extraction\").upload_file(\"/home/fabric/work/Project/tfidf_vectorizer.joblib\", \"/home/ubuntu/tfidf_vectorizer.joblib\")\n"
   ]
  },
  {
   "cell_type": "code",
   "execution_count": null,
   "metadata": {},
   "outputs": [],
   "source": [
    "slice = fablib.get_slice(name=\"singleThread\" + fablib.get_bastion_username())\n",
    "\n",
    "\n",
    "slice.get_node(\"destination\").upload_file(\"/home/fabric/work/Project/sentiment_model.joblib\", \"/home/ubuntu/sentiment_model.joblib\")\n",
    "slice.get_node(\"destination\").upload_file(\"/home/fabric/work/Project/tfidf_vectorizer.joblib\", \"/home/ubuntu/tfidf_vectorizer.joblib\")\n"
   ]
  },
  {
   "cell_type": "code",
   "execution_count": 3,
   "metadata": {},
   "outputs": [
    {
     "data": {
      "text/plain": [
       "<SFTPAttributes: [ size=884 uid=1000 gid=1000 mode=0o100664 atime=1701177759 mtime=1701177759 ]>"
      ]
     },
     "execution_count": 3,
     "metadata": {},
     "output_type": "execute_result"
    }
   ],
   "source": [
    "slice = fablib.get_slice(name=\"multiThread\" + fablib.get_bastion_username())\n",
    "\n",
    "slice.get_node(\"source\").upload_file(\"/home/fabric/work/Project/sender.py\", \"/home/ubuntu/sender1.py\")\n",
    "slice.get_node(\"source\").upload_file(\"/home/fabric/work/Project/sender.py\", \"/home/ubuntu/sender2.py\")\n",
    "slice.get_node(\"source\").upload_file(\"/home/fabric/work/Project/sender.py\", \"/home/ubuntu/sender3.py\")\n",
    "\n",
    "slice.get_node(\"pre-processing1\").upload_file(\"/home/fabric/work/Project/receiveAndForward.py\", \"/home/ubuntu/receiveAndForward.py\")\n",
    "slice.get_node(\"pre-processing2\").upload_file(\"/home/fabric/work/Project/receiveAndForward.py\", \"/home/ubuntu/receiveAndForward.py\")\n",
    "slice.get_node(\"pre-processing3\").upload_file(\"/home/fabric/work/Project/receiveAndForward.py\", \"/home/ubuntu/receiveAndForward.py\")\n",
    "\n",
    "\n",
    "slice.get_node(\"tokenization1\").upload_file(\"/home/fabric/work/Project/receiveAndForward.py\", \"/home/ubuntu/receiveAndForward.py\")\n",
    "slice.get_node(\"tokenization2\").upload_file(\"/home/fabric/work/Project/receiveAndForward.py\", \"/home/ubuntu/receiveAndForward.py\")\n",
    "slice.get_node(\"tokenization3\").upload_file(\"/home/fabric/work/Project/receiveAndForward.py\", \"/home/ubuntu/receiveAndForward.py\")\n",
    "\n",
    "\n",
    "slice.get_node(\"feature-extraction1\").upload_file(\"/home/fabric/work/Project/receiveAndForward.py\", \"/home/ubuntu/receiveAndForward.py\")\n",
    "slice.get_node(\"feature-extraction2\").upload_file(\"/home/fabric/work/Project/receiveAndForward.py\", \"/home/ubuntu/receiveAndForward.py\")\n",
    "slice.get_node(\"feature-extraction3\").upload_file(\"/home/fabric/work/Project/receiveAndForward.py\", \"/home/ubuntu/receiveAndForward.py\")\n",
    "\n",
    "\n",
    "slice.get_node(\"destination\").upload_file(\"/home/fabric/work/Project/receiveAndForward.py\", \"/home/ubuntu/receiveAndForward1.py\")\n",
    "slice.get_node(\"destination\").upload_file(\"/home/fabric/work/Project/receiveAndForward.py\", \"/home/ubuntu/receiveAndForward2.py\")\n",
    "slice.get_node(\"destination\").upload_file(\"/home/fabric/work/Project/receiveAndForward.py\", \"/home/ubuntu/receiveAndForward3.py\")\n"
   ]
  },
  {
   "cell_type": "code",
   "execution_count": 4,
   "metadata": {},
   "outputs": [
    {
     "ename": "SyntaxError",
     "evalue": "invalid syntax (4248635800.py, line 1)",
     "output_type": "error",
     "traceback": [
      "\u001b[0;36m  Cell \u001b[0;32mIn[4], line 1\u001b[0;36m\u001b[0m\n\u001b[0;31m    Steps to execute the experiment:\u001b[0m\n\u001b[0m          ^\u001b[0m\n\u001b[0;31mSyntaxError\u001b[0m\u001b[0;31m:\u001b[0m invalid syntax\n"
     ]
    }
   ],
   "source": [
    "Steps to execute the experiment:\n",
    "    Single Thread Experiment:\n",
    "        First, SSH to the nodes in different terminals using SSH commands.\n",
    "        On nodes(except source node) execute \"python3 ./receiveAndForward.py\".\n",
    "        On sender node, execute \"python3 ./sender.py\".\n",
    "        \n",
    "To edit a file, use command nano <file path>\n",
    "\n",
    "    Multi Thread Experiment:\n",
    "        First, SSH to the nodes in different terminals using SSH commands.\n",
    "        On nodes(except source node) execute \"python3 ./receiveAndForward.py\".\n",
    "        On sender node, execute \"python3 ./sender.py\".\n",
    "        On destination node, execute \"python3 ./receiveAndForward1.py\"\n",
    "        \n",
    "        \n",
    "Add pre-processing, tokenization and feature extraction logic in file 'receiveAndForward.py' at the respective nodes. Add the code after getting the payload.\n",
    "\n",
    "Need to update the line that reads payload, update it to \"payload =  packet[Raw].load\", first check if this works on single Thread network, if it works update on multi thread as well.\n",
    "\n",
    "after getting the payload, do processing on the payload and assn the new payload to newPayload variable.\n",
    "\n"
   ]
  },
  {
   "cell_type": "markdown",
   "metadata": {},
   "source": [
    "In the Jupyter environment, click on the folder icon in the file browser on the left to make sure that you are located in your “Jupyter home” directory.\n",
    "\n",
    "![](images/jup-fab-home-dir.png)\n",
    "\n",
    "Then, you should see the `ping.txt` file appear in the Jupyter file browser on the left. You can now download this file from the Jupyter environment to your own laptop."
   ]
  },
  {
   "cell_type": "markdown",
   "metadata": {},
   "source": [
    "## Modify your slice lifetime\n",
    "\n",
    "By default, your resources will be reserved for you for one day - then, they will be deleted automatically to free them for other users."
   ]
  },
  {
   "cell_type": "markdown",
   "metadata": {},
   "source": [
    "### Extend your slice\n",
    "\n",
    "If you don’t plan to finish an experiment in one day, you can extend your slice. The following cell extends your reservation for 3 days."
   ]
  },
  {
   "cell_type": "code",
   "execution_count": null,
   "metadata": {},
   "outputs": [],
   "source": [
    "from datetime import datetime\n",
    "from datetime import timezone\n",
    "from datetime import timedelta\n",
    "\n",
    "# Set end date to 3 days from now\n",
    "end_date = (datetime.now(timezone.utc) + timedelta(days=14)).strftime(\"%Y-%m-%d %H:%M:%S %z\")\n",
    "slice.renew(end_date)"
   ]
  },
  {
   "cell_type": "markdown",
   "metadata": {},
   "source": [
    "Confirm the new end time of your slice in the output of the following cell:"
   ]
  },
  {
   "cell_type": "code",
   "execution_count": null,
   "metadata": {},
   "outputs": [],
   "source": [
    "slice.update()\n",
    "_ = slice.show()"
   ]
  },
  {
   "cell_type": "markdown",
   "metadata": {},
   "source": [
    "You can extend your slice again anytime before these 3 days have elapsed, if you need more time."
   ]
  },
  {
   "cell_type": "markdown",
   "metadata": {},
   "source": [
    "### Delete your slice"
   ]
  },
  {
   "cell_type": "markdown",
   "metadata": {},
   "source": [
    "When you finish your experiment, you should delete your slice! The following cells deletes all the resources in your slice, freeing them for other experimenters."
   ]
  },
  {
   "cell_type": "code",
   "execution_count": 3,
   "metadata": {},
   "outputs": [
    {
     "ename": "NameError",
     "evalue": "name 'slice_name' is not defined",
     "output_type": "error",
     "traceback": [
      "\u001b[0;31m---------------------------------------------------------------------------\u001b[0m",
      "\u001b[0;31mNameError\u001b[0m                                 Traceback (most recent call last)",
      "Cell \u001b[0;32mIn[3], line 1\u001b[0m\n\u001b[0;32m----> 1\u001b[0m \u001b[38;5;28mslice\u001b[39m \u001b[38;5;241m=\u001b[39m fablib\u001b[38;5;241m.\u001b[39mget_slice(name\u001b[38;5;241m=\u001b[39m\u001b[43mslice_name\u001b[49m)\n\u001b[1;32m      2\u001b[0m fablib\u001b[38;5;241m.\u001b[39mdelete_slice(slice_name)\n",
      "\u001b[0;31mNameError\u001b[0m: name 'slice_name' is not defined"
     ]
    }
   ],
   "source": []
  },
  {
   "cell_type": "code",
   "execution_count": 21,
   "metadata": {},
   "outputs": [
    {
     "data": {
      "text/html": [
       "<style type=\"text/css\">\n",
       "#T_47b36 tr:nth-child(even) {\n",
       "  background: #dbf3ff;\n",
       "  color: #231f20;\n",
       "}\n",
       "#T_47b36 tr:nth-child(odd) {\n",
       "  background: #ffffff;\n",
       "  color: #231f20;\n",
       "}\n",
       "#T_47b36 caption {\n",
       "  text-align: center;\n",
       "  font-size: 150%;\n",
       "}\n",
       "#T_47b36_row0_col0, #T_47b36_row0_col1, #T_47b36_row1_col0, #T_47b36_row1_col1, #T_47b36_row2_col0, #T_47b36_row2_col1, #T_47b36_row3_col0, #T_47b36_row3_col1, #T_47b36_row4_col0, #T_47b36_row4_col1, #T_47b36_row5_col0, #T_47b36_row5_col1 {\n",
       "  text-align: left;\n",
       "  border: 1px #231f20 solid !important;\n",
       "  overwrite: False;\n",
       "}\n",
       "</style>\n",
       "<table id=\"T_47b36\">\n",
       "  <caption>Slice</caption>\n",
       "  <thead>\n",
       "  </thead>\n",
       "  <tbody>\n",
       "    <tr>\n",
       "      <td id=\"T_47b36_row0_col0\" class=\"data row0 col0\" >ID</td>\n",
       "      <td id=\"T_47b36_row0_col1\" class=\"data row0 col1\" >91c4b9d5-8dcd-400e-a5ed-5c5e9edad852</td>\n",
       "    </tr>\n",
       "    <tr>\n",
       "      <td id=\"T_47b36_row1_col0\" class=\"data row1 col0\" >Name</td>\n",
       "      <td id=\"T_47b36_row1_col1\" class=\"data row1 col1\" >hello-fabric_amahes38_0000106306</td>\n",
       "    </tr>\n",
       "    <tr>\n",
       "      <td id=\"T_47b36_row2_col0\" class=\"data row2 col0\" >Lease Expiration (UTC)</td>\n",
       "      <td id=\"T_47b36_row2_col1\" class=\"data row2 col1\" >2023-11-21 01:35:38 +0000</td>\n",
       "    </tr>\n",
       "    <tr>\n",
       "      <td id=\"T_47b36_row3_col0\" class=\"data row3 col0\" >Lease Start (UTC)</td>\n",
       "      <td id=\"T_47b36_row3_col1\" class=\"data row3 col1\" >2023-11-20 01:35:39 +0000</td>\n",
       "    </tr>\n",
       "    <tr>\n",
       "      <td id=\"T_47b36_row4_col0\" class=\"data row4 col0\" >Project ID</td>\n",
       "      <td id=\"T_47b36_row4_col1\" class=\"data row4 col1\" >6ce270de-788d-4e07-8bae-3206860a6387</td>\n",
       "    </tr>\n",
       "    <tr>\n",
       "      <td id=\"T_47b36_row5_col0\" class=\"data row5 col0\" >State</td>\n",
       "      <td id=\"T_47b36_row5_col1\" class=\"data row5 col1\" >Configuring</td>\n",
       "    </tr>\n",
       "  </tbody>\n",
       "</table>\n"
      ],
      "text/plain": [
       "<pandas.io.formats.style.Styler at 0x7fba292155d0>"
      ]
     },
     "metadata": {},
     "output_type": "display_data"
    }
   ],
   "source": []
  },
  {
   "cell_type": "code",
   "execution_count": null,
   "metadata": {},
   "outputs": [],
   "source": []
  }
 ],
 "metadata": {
  "kernelspec": {
   "display_name": "Python 3 (ipykernel)",
   "language": "python",
   "name": "python3"
  },
  "language_info": {
   "codemirror_mode": {
    "name": "ipython",
    "version": 3
   },
   "file_extension": ".py",
   "mimetype": "text/x-python",
   "name": "python",
   "nbconvert_exporter": "python",
   "pygments_lexer": "ipython3",
   "version": "3.10.6"
  }
 },
 "nbformat": 4,
 "nbformat_minor": 4
}
